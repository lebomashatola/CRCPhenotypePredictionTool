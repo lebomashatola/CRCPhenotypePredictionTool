{
 "cells": [
  {
   "cell_type": "code",
   "execution_count": 5,
   "id": "c018a097-7637-400d-992e-46917ab18b86",
   "metadata": {},
   "outputs": [],
   "source": [
    "import os "
   ]
  },
  {
   "cell_type": "code",
   "execution_count": 9,
   "id": "0b6a2db3-f0b4-4acd-8dd6-c90b527331ee",
   "metadata": {},
   "outputs": [],
   "source": [
    "st1I = '/Users/lebohangmashatola/Library/CloudStorage/Box-Box/Lebo_Mashatola/CRCPhenotypePredictionTool-main/histology/Images/st1'\n",
    "st1Test = '/Users/lebohangmashatola/Library/CloudStorage/Box-Box/Lebo_Mashatola/CRCPhenotypePredictionTool-main/histology/Test/st1'\n",
    "st1T = '/Users/lebohangmashatola/Library/CloudStorage/Box-Box/Lebo_Mashatola/CRCPhenotypePredictionTool-main/histology/Tiles/st1'\n",
    "\n",
    "st23I = '/Users/lebohangmashatola/Library/CloudStorage/Box-Box/Lebo_Mashatola/CRCPhenotypePredictionTool-main/histology/Images/st23'\n",
    "st23Test = '/Users/lebohangmashatola/Library/CloudStorage/Box-Box/Lebo_Mashatola/CRCPhenotypePredictionTool-main/histology/Test/st23'\n",
    "st23T = '/Users/lebohangmashatola/Library/CloudStorage/Box-Box/Lebo_Mashatola/CRCPhenotypePredictionTool-main/histology/Tiles/st23'\n",
    "\n",
    "st4I = '/Users/lebohangmashatola/Library/CloudStorage/Box-Box/Lebo_Mashatola/CRCPhenotypePredictionTool-main/histology/Images/st4'\n",
    "st4Test = '/Users/lebohangmashatola/Library/CloudStorage/Box-Box/Lebo_Mashatola/CRCPhenotypePredictionTool-main/histology/Test/st14'\n",
    "st4T = '/Users/lebohangmashatola/Library/CloudStorage/Box-Box/Lebo_Mashatola/CRCPhenotypePredictionTool-main/histology/Tiles/st4'"
   ]
  },
  {
   "cell_type": "code",
   "execution_count": 10,
   "id": "81617b45-978a-4f24-acd2-13f0f64b56d1",
   "metadata": {},
   "outputs": [],
   "source": [
    "def preprocess(inputP, outputP):\n",
    "    \n",
    "    os.chdir(inputP)\n",
    "    images = os.listdir()\n",
    "    \n",
    "    for image in images:\n",
    "        \n",
    "        os.chdir(outputP)\n",
    "        os.system('python pyhist.py --method \"graphtestmode\" --patch-size 64 --test-downsample 16 --info \"verbose\" ' + image)\n",
    "        #os.system('python pyhist.py --method \"graphtestmode\" --patch-size 64 --test-downsample 16 --output \"$outputP\" --info \"verbose\" ' + image)\n"
   ]
  },
  {
   "cell_type": "code",
   "execution_count": 11,
   "id": "b00e477a-cdd9-4232-8637-0516c8c1aa65",
   "metadata": {},
   "outputs": [],
   "source": [
    "preprocess(st1I,st1Test)"
   ]
  },
  {
   "cell_type": "code",
   "execution_count": 12,
   "id": "29705606-e35a-4660-8aa3-ccf0e6d31abc",
   "metadata": {},
   "outputs": [],
   "source": [
    "preprocess(st23I,st23Test)"
   ]
  },
  {
   "cell_type": "code",
   "execution_count": 13,
   "id": "192613bd-5c8a-49ad-9886-d67f72915636",
   "metadata": {},
   "outputs": [],
   "source": [
    "preprocess(st4I,st4Test)"
   ]
  },
  {
   "cell_type": "code",
   "execution_count": 14,
   "id": "fabe42cf-1791-4433-b9ad-c7cd77730236",
   "metadata": {},
   "outputs": [],
   "source": [
    "def segmentation(inputP, outputP):\n",
    "    \n",
    "    os.chdir(inputP)\n",
    "    images = os.listdir()\n",
    "    \n",
    "    for image in images:\n",
    "        \n",
    "        os.chdir(outputP)\n",
    "        os.system('python pyhist.py --method \"graph\" --patch-size 64 --output-downsample 16 --content-threshold 0.8 --k-const 1250 --save-patches --save-tilecrossed-image --output \"$outputP\" --info \"verbose\" ' + image)\n",
    "    "
   ]
  },
  {
   "cell_type": "code",
   "execution_count": 15,
   "id": "e6763598-f4aa-421e-b2bd-d3aa48e27877",
   "metadata": {},
   "outputs": [],
   "source": [
    "segmentation(st1I,st1T)"
   ]
  },
  {
   "cell_type": "code",
   "execution_count": 16,
   "id": "b348ad43-0ce9-4e44-b7dc-0ad66afb6fe8",
   "metadata": {},
   "outputs": [],
   "source": [
    "segmentation(st23I,st23T)"
   ]
  },
  {
   "cell_type": "code",
   "execution_count": 17,
   "id": "79a47dc2-2bc2-4f25-9fd9-5ede8be6d408",
   "metadata": {},
   "outputs": [],
   "source": [
    "segmentation(st4I,st4T)"
   ]
  }
 ],
 "metadata": {
  "kernelspec": {
   "display_name": "Python 3 (ipykernel)",
   "language": "python",
   "name": "python3"
  },
  "language_info": {
   "codemirror_mode": {
    "name": "ipython",
    "version": 3
   },
   "file_extension": ".py",
   "mimetype": "text/x-python",
   "name": "python",
   "nbconvert_exporter": "python",
   "pygments_lexer": "ipython3",
   "version": "3.9.11"
  }
 },
 "nbformat": 4,
 "nbformat_minor": 5
}
