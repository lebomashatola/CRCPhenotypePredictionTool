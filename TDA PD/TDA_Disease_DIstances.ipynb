{
 "cells": [
  {
   "cell_type": "code",
   "execution_count": 1,
   "id": "fc9b94fd-dfc6-4127-a36b-3bbdf66ae062",
   "metadata": {},
   "outputs": [],
   "source": [
    "from sklearn.metrics import accuracy_score, f1_score, precision_score, recall_score\n",
    "from gudhi.representations import Landscape, PersistenceImage\n",
    "from gudhi.weighted_rips_complex import WeightedRipsComplex\n",
    "from sklearn.model_selection import train_test_split\n",
    "from sklearn.neural_network import MLPClassifier\n",
    "from sklearn.pipeline import Pipeline\n",
    "from sklearn import preprocessing\n",
    "import pandas as pd \n",
    "import numpy as np\n",
    "import gudhi\n",
    "import math\n",
    "import dcor "
   ]
  },
  {
   "cell_type": "code",
   "execution_count": 2,
   "id": "5599b103-da35-4668-bf1a-8e9ec92cc987",
   "metadata": {},
   "outputs": [],
   "source": [
    "#READ RNA COUNT MATRICES (.TSV) FILES AND MERGE INTO A SINGLE DATASET "
   ]
  },
  {
   "cell_type": "code",
   "execution_count": 3,
   "id": "27048b01-a58b-4fbc-aa46-556554e0c2ec",
   "metadata": {},
   "outputs": [],
   "source": [
    "def read_pickle_files(path, path_differential_genes):\n",
    "    \n",
    "    pickle_file_directory = '/Users/lebohangmashatola/Library/CloudStorage/Box-Box/Lebo_Mashatola/Scripts/data/rna_data/' + path + '.pkl'\n",
    "    \n",
    "    df = pd.read_pickle(pickle_file_directory)\n",
    "    differential_genes = pd.read_csv(filepath_differentially_expressed_genes, index_col=0) \n",
    "    \n",
    "    differential_genes = differential_genes[\"x\"].to_numpy()    \n",
    "    gene_exprs_matrix = df[np.intersect1d(df.columns, differential_genes)] #Subset differentially expressed genes\n",
    "        \n",
    "    return gene_exprs_matrix\n",
    "    "
   ]
  },
  {
   "cell_type": "code",
   "execution_count": 4,
   "id": "ab4e4291-eb56-4815-9cb0-1e3d118d8056",
   "metadata": {},
   "outputs": [],
   "source": [
    "LUAD = read_pickle_files('LUAD', 'LUAD_READ.csv')"
   ]
  },
  {
   "cell_type": "code",
   "execution_count": 5,
   "id": "b20fe8bd-b5ec-4621-affc-7da1a74f9a79",
   "metadata": {},
   "outputs": [],
   "source": [
    "READ = read_pickle_files('READ', 'LUAD_READ.csv')"
   ]
  },
  {
   "cell_type": "code",
   "execution_count": 6,
   "id": "f7f1037c-72f2-448f-9ca2-a3a661febd46",
   "metadata": {},
   "outputs": [],
   "source": [
    "#MERGE THE DATASETS (DIFFERENT CANCER TYPES AND PERFORM DATA SPLIT TRAIN (70%) AND TEST (30%)"
   ]
  },
  {
   "cell_type": "code",
   "execution_count": 7,
   "id": "fd9fabe0-005e-4af2-acc0-155c3b2fc65a",
   "metadata": {},
   "outputs": [],
   "source": [
    "def merge_split(file1, file2):\n",
    "    \n",
    "    labelencoding = preprocessing.LabelEncoder()\n",
    "    \n",
    "    gene_exprs_matrix = pd.concat([file1, file2], axis=0)            \n",
    "    train, test = train_test_split(gene_exprs_matrix, test_size=0.3, train_size=0.7, random_state=0, shuffle=True)\n",
    "            \n",
    "    train_labs = labelencoding.fit_transform(train.index.to_list())\n",
    "    test_labs = labelencoding.fit_transform(test.index.to_list())\n",
    "    \n",
    "    return np.array(train), np.array(test), train_labs, test_labs"
   ]
  },
  {
   "cell_type": "code",
   "execution_count": 9,
   "id": "9c8499a8-edb4-4b0c-9e71-35763a57d949",
   "metadata": {},
   "outputs": [],
   "source": [
    "train_READ_LUAD, test_READ_LUAD, train_labs_READ_LUAD, test_labs_READ_LUAD = merge_split(LUAD, READ)                                                                                                                                                                                                                                          "
   ]
  },
  {
   "cell_type": "code",
   "execution_count": 10,
   "id": "dbd3db18-db73-4fd8-82f5-fb8a7aaad6e1",
   "metadata": {},
   "outputs": [],
   "source": [
    "#INTERGENE CORRELATION MEASURE USING DCOR "
   ]
  },
  {
   "cell_type": "code",
   "execution_count": 11,
   "id": "581e56a0-a140-48f7-a453-7741c1e08aec",
   "metadata": {},
   "outputs": [],
   "source": [
    "def intergene_correlation_measure(DF):\n",
    "    \n",
    "    num_genes = DF.shape[1]\n",
    "    \n",
    "    dist = np.zeros((num_genes, num_genes))\n",
    "    \n",
    "    for i in range(num_genes):\n",
    "        for j in range(i+1, num_genes):\n",
    "            \n",
    "            dist[i,j] = dcor.distance_correlation(DF[:,i], DF[:,j])\n",
    "    \n",
    "    dist = dist + dist.T + np.eye(num_genes)\n",
    "    \n",
    "    return dist "
   ]
  },
  {
   "cell_type": "code",
   "execution_count": 12,
   "id": "be448120-df22-4e2e-8d15-7e87e5a0c69e",
   "metadata": {},
   "outputs": [],
   "source": [
    "def unit_test_intergene_correlation_measure():\n",
    "    \n",
    "    expression = np.array([[22,25,30],[32,23,24], [23, 21, 28]])\n",
    "    \n",
    "    return intergene_correlation_measure(expression)   "
   ]
  },
  {
   "cell_type": "code",
   "execution_count": 13,
   "id": "51efcb9b-8036-46b4-84c6-7f20f956457b",
   "metadata": {},
   "outputs": [],
   "source": [
    "Z_READ_LUAD = intergene_correlation_measure(train_READ_LUAD)"
   ]
  },
  {
   "cell_type": "code",
   "execution_count": 81,
   "id": "92c55bac-858c-47c7-8ecb-819c3d70f19c",
   "metadata": {},
   "outputs": [],
   "source": [
    "#DISTANCE CORRELATION MEASURE "
   ]
  },
  {
   "cell_type": "code",
   "execution_count": 14,
   "id": "f20b5b39-acdf-41b4-88e9-a7146e349eeb",
   "metadata": {},
   "outputs": [],
   "source": [
    "M_READ_LUAD = 1 - Z_READ_LUAD"
   ]
  },
  {
   "cell_type": "code",
   "execution_count": 15,
   "id": "56d32b01-45e6-472c-8b85-52fb0a9081bb",
   "metadata": {},
   "outputs": [],
   "source": [
    "#PER-PATIENT DISTANCE MATRIX ADDING FROM GLOBAL DISTANCE MATRIX"
   ]
  },
  {
   "cell_type": "code",
   "execution_count": 16,
   "id": "fb2e5467-8576-4dd5-bf27-4f1c9b1c8dca",
   "metadata": {},
   "outputs": [],
   "source": [
    "def patient_correlation_measure(F, M):\n",
    "    \n",
    "    dist = np.zeros((M.shape[1], M.shape[1]))\n",
    "    num_genes = M.shape[1]\n",
    "    \n",
    "    for i in range(num_genes):\n",
    "        \n",
    "        for j in range(i+1, num_genes):\n",
    "            \n",
    "            b = abs((F[i]**2 - F[j]**2) / M[i,j])\n",
    "            dist[i,j] = math.sqrt(M[i, j]**2 + b**2 + 2*F[i]**2 + 2*F[j]**2)/2 #weighting algorithm derived from Mandal et al., 2020\n",
    "    \n",
    "    dist = dist + dist.T + np.eye(num_genes)\n",
    "    \n",
    "    return dist"
   ]
  },
  {
   "cell_type": "code",
   "execution_count": 17,
   "id": "60bfdbdc-d70c-45a5-99a3-ca7a07de9df3",
   "metadata": {},
   "outputs": [],
   "source": [
    "def unit_test_patient_correlation_measure():\n",
    "    \n",
    "    X = [1,2,3]\n",
    "    M = np.array([[1, 0.3, 0.02],[0.3, 1, 0.2], [0.02, 0.2, 1]])\n",
    "    \n",
    "    return patient_correlation_measure(X, M)"
   ]
  },
  {
   "cell_type": "code",
   "execution_count": 18,
   "id": "bc9a7ace-93a6-4509-bce1-a917516f9ebe",
   "metadata": {},
   "outputs": [],
   "source": [
    "#TOPOLOGICAL DATA ANALYSIS USING GUDHI, RETURNS PER-PATIENT PERSISTENT DIAGRAMS IN ZERO-TH DIMENSION "
   ]
  },
  {
   "cell_type": "code",
   "execution_count": 89,
   "id": "9e421816-e2c4-4d8f-9d21-28937254b40b",
   "metadata": {},
   "outputs": [],
   "source": [
    "def simplicial_patient(X, M, name):\n",
    "    \n",
    "    Persistent_diagrams0, Persistent_diagrams1 = [], []\n",
    "    \n",
    "    for s in X:\n",
    "        \n",
    "        distance_matrix = patient_correlation_measure(s, M)\n",
    "        \n",
    "        rips_complex = RipsComplex(distance_matrix).create_simplex_tree(max_dimension=1) #Weights used include per-patient gene expressions\n",
    "        \n",
    "        rips_complex.collapse_edges()\n",
    "        rips_complex.expansion(2)\n",
    "        rips_complex.persistence()\n",
    "    \n",
    "        Persistent_diagrams0.append(rips_complex.persistence_intervals_in_dimension(0))\n",
    "        Persistent_diagrams1.append(rips_complex.persistence_intervals_in_dimension(1))\n",
    "    \n",
    "    import matplotlib.pyplot as plt\n",
    "    filepath = '/home/lmashatola/results/' + name\n",
    "    gudhi.plot_persistence_diagram(rips_complex.persistence(), legend=True)\n",
    "    plt.savefig(filepath)\n",
    "    \n",
    "    remove_infinity = lambda barcode : np.array([bars for bars in barcode if bars[1]!= np.inf])\n",
    "    Persistent_diagrams0 = list(map(remove_infinity, Persistent_diagrams0))\n",
    "    #Persistent_diagrams1 = list(map(remove_infinity, Persistent_diagrams1))\n",
    "    \n",
    "    return Persistent_diagrams0   "
   ]
  },
  {
   "cell_type": "code",
   "execution_count": 90,
   "id": "da2f5f29-cfac-4d41-a8b1-5a4f5b6eaaf2",
   "metadata": {},
   "outputs": [],
   "source": [
    "dgms_READ_LUAD = simplicial_patient(train_READ_LUAD, M_READ_LUAD, 'READ_LUAD.pdf')\n",
    "dgms_READ_BRCA = simplicial_patient(train_READ_BRCA, M_READ_BRCA, 'READ_BRCA.pdf')\n",
    "dgms_LUAD_BRCA = simplicial_patient(train_LUAD_BRCA, M_LUAD_BRCA, 'LUAD_BRCA.pdf')"
   ]
  },
  {
   "cell_type": "code",
   "execution_count": 91,
   "id": "f8596be6-15df-47db-b23e-220eb0df1576",
   "metadata": {},
   "outputs": [],
   "source": [
    "Tdgms_READ_LUAD = simplicial_patient(test_READ_LUAD, M_READ_LUAD, 'Test_READ_LUAD.pdf')\n",
    "Tdgms_READ_BRCA = simplicial_patient(test_READ_BRCA, M_READ_BRCA, 'Test_READ_BRCA.pdf')\n",
    "Tdgms_LUAD_BRCA = simplicial_patient(test_LUAD_BRCA, M_LUAD_BRCA, 'Test_LUAD_BRCA.pdf')"
   ]
  },
  {
   "cell_type": "code",
   "execution_count": 92,
   "id": "58f7d5fe-b8cd-464b-9e49-5db99bb0dcc9",
   "metadata": {},
   "outputs": [],
   "source": [
    "#SKLEARN PIPELINE WITH GUDHI PERSISTENT DIAGRAM OUTPUT "
   ]
  },
  {
   "cell_type": "code",
   "execution_count": 93,
   "id": "701fbc93-843c-4bec-a79b-142456bcf09f",
   "metadata": {},
   "outputs": [],
   "source": [
    "def TDA_representations(train_dataset):\n",
    "    \n",
    "    pipe_Landscape = Pipeline([(\"TDA\", Landscape(num_landscapes=10, resolution=len(train_dataset), sample_range=[0,len(train_dataset)])),\n",
    "                               (\"Estimator\", MLPClassifier(early_stopping=True))])\n",
    "\n",
    "    pipe_Image = Pipeline([(\"TDA\", PersistenceImage(resolution=[len(train_dataset), len(train_dataset)], im_range=[10, 10, 10, 10])),\n",
    "                           (\"Estimator\", MLPClassifier(early_stopping=True))])\n",
    "    \n",
    "    return pipe_Landscape, pipe_Image"
   ]
  },
  {
   "cell_type": "code",
   "execution_count": 94,
   "id": "e7f84827-62d2-4f4e-b0f3-df7744a3a0f0",
   "metadata": {},
   "outputs": [],
   "source": [
    "pipe_Landscape_READ_LUAD, pipe_Image_READ_LUAD = TDA_representations(dgms_READ_LUAD)\n",
    "pipe_Landscape_READ_BRCA, pipe_Image_READ_BRCA = TDA_representations(dgms_READ_BRCA)\n",
    "pipe_Landscape_LUAD_BRCA, pipe_Image_LUAD_BRCA   = TDA_representations(dgms_LUAD_BRCA)"
   ]
  },
  {
   "cell_type": "code",
   "execution_count": 95,
   "id": "0955a994-a336-46d0-9b85-aa42cb3b0f4c",
   "metadata": {},
   "outputs": [],
   "source": [
    "Testing_pipe_Landscape_READ_LUAD, Testing_pipe_Image_READ_LUAD = TDA_representations(Tdgms_READ_LUAD)\n",
    "Testing_pipe_Landscape_READ_BRCA, Testing_pipe_Image_READ_BRCA = TDA_representations(Tdgms_READ_BRCA)\n",
    "Testing_pipe_Landscape_LUAD_BRCA, Testing_pipe_Image_LUAD_BRCA = TDA_representations(Tdgms_LUAD_BRCA)"
   ]
  },
  {
   "cell_type": "code",
   "execution_count": 96,
   "id": "fd2d6fef-2296-42a3-bf93-4bb3d76c56c3",
   "metadata": {},
   "outputs": [],
   "source": [
    "#MODEL TRAINING "
   ]
  },
  {
   "cell_type": "code",
   "execution_count": 97,
   "id": "ca090317-7243-406f-9435-03f443d72426",
   "metadata": {},
   "outputs": [],
   "source": [
    "def model_train(dgms, labs, pipe_Landscape, pipe_Image):\n",
    "        \n",
    "    trained_model_landscape = pipe_Landscape.fit(dgms, labs)\n",
    "    trained_model_Image = pipe_Image.fit(dgms, labs)\n",
    "    \n",
    "    predicted_label_lanscape = trained_model_landscape.predict(dgms)\n",
    "    predicted_label_Image = trained_model_Image.predict(dgms)\n",
    "        \n",
    "    f1_micro_Landscape = f1_score(labs, predicted_label_lanscape, average=\"micro\")\n",
    "    f1_macro_Landscape = f1_score(labs, predicted_label_lanscape, average=\"macro\")\n",
    "    recall_Landscape = recall_score(labs, predicted_label_lanscape)\n",
    "    precision_Landscape = precision_score(labs, predicted_label_lanscape)\n",
    "    \n",
    "    f1_micro_Image = f1_score(labs, predicted_label_Image, average=\"micro\")\n",
    "    f1_macro_Image = f1_score(labs, predicted_label_Image, average=\"macro\")\n",
    "    recall_Image = recall_score(labs, predicted_label_Image)\n",
    "    precision_Image = precision_score(labs, predicted_label_Image)\n",
    "    \n",
    "    \n",
    "    a = np.array([[trained_model_landscape.score(dgms, labs), trained_model_Image.score(dgms, labs)]])\n",
    "    a = pd.DataFrame(a, index=['Train Accuracy'], columns=['Accuracy Landscape',  'Accuracy Image'])\n",
    "    a.to_csv('/home/lmashatola/results/training_accuracy.csv')\n",
    "    \n",
    "    b = np.array([[f1_micro_Image, f1_macro_Image, precision_Image, recall_Image], [f1_micro_Landscape, f1_macro_Landscape, precision_Landscape, recall_Landscape]])\n",
    "    b = pd.DataFrame(b, index=['Image', 'Landscape'], columns=['F1 Score Micro', 'F1 Score Macro', 'Precision', 'TPR'])\n",
    "    b.to_csv('/home/lmashatola/results/training_classification.csv')\n",
    "    \n",
    "    return a, b"
   ]
  },
  {
   "cell_type": "code",
   "execution_count": 98,
   "id": "68da3c22-5b7f-444d-a607-a104b8823b0f",
   "metadata": {},
   "outputs": [],
   "source": [
    "accuracy_READ_LUAD, classification_metrics_READ_LUAD = model_train(dgms_READ_LUAD, train_labs_READ_LUAD, pipe_Landscape_READ_LUAD, pipe_Image_READ_LUAD) #READ vs LUAD"
   ]
  },
  {
   "cell_type": "code",
   "execution_count": 101,
   "id": "3448dedb-b8b3-4333-a62a-44a5fec30eff",
   "metadata": {},
   "outputs": [],
   "source": [
    "accuracy_READ_BRCA, classification_metrics_READ_BRCA = model_train(dgms_READ_BRCA, train_labs_READ_BRCA, pipe_Landscape_READ_BRCA, pipe_Image_READ_BRCA) #READ vs BRCA"
   ]
  },
  {
   "cell_type": "code",
   "execution_count": 104,
   "id": "8a61cc09-7f4b-4b4b-aa22-39b57ce931f8",
   "metadata": {},
   "outputs": [],
   "source": [
    "accuracy_LUAD_BRCA, classification_metrics_LUAD_BRCA = model_train(dgms_LUAD_BRCA, train_labs_LUAD_BRCA, pipe_Landscape_LUAD_BRCA, pipe_Image_LUAD_BRCA) #LUAD vs BRCA"
   ]
  },
  {
   "cell_type": "code",
   "execution_count": 107,
   "id": "cd88c55c-9f59-4899-bd32-cb0e1347826d",
   "metadata": {},
   "outputs": [],
   "source": [
    "#MODEL TESTING "
   ]
  },
  {
   "cell_type": "code",
   "execution_count": 108,
   "id": "45249c84-29fe-4a32-9633-48516fe88fed",
   "metadata": {},
   "outputs": [],
   "source": [
    "def model_test(dgms, labs, Tdgsm, Tlabs, pipe_Landscape, pipe_Image):\n",
    "        \n",
    "    trained_model_landscape = pipe_Landscape.fit(dgms, labs)\n",
    "    trained_model_Image = pipe_Image.fit(dgms, labs)\n",
    "    \n",
    "    predicted_label_lanscape = trained_model_landscape.predict(Tdgsm)\n",
    "    predicted_label_Image = trained_model_Image.predict(Tdgsm)\n",
    "        \n",
    "    f1_micro_Landscape = f1_score(Tlabs, predicted_label_lanscape, average=\"micro\")\n",
    "    f1_macro_Landscape = f1_score(Tlabs, predicted_label_lanscape, average=\"macro\")\n",
    "    recall_Landscape = recall_score(Tlabs, predicted_label_lanscape)\n",
    "    precision_Landscape = precision_score(Tlabs, predicted_label_lanscape)\n",
    "    \n",
    "    f1_micro_Image = f1_score(Tlabs, predicted_label_Image, average=\"micro\")\n",
    "    f1_macro_Image = f1_score(Tlabs, predicted_label_Image, average=\"macro\")\n",
    "    recall_Image = recall_score(Tlabs, predicted_label_Image)\n",
    "    precision_Image = precision_score(Tlabs, predicted_label_Image)\n",
    "    \n",
    "    a = np.array([[trained_model_landscape.score(Tdgsm, Tlabs), trained_model_Image.score(Tdgsm, Tlabs)]])\n",
    "    a = pd.DataFrame(a, index=['Test Accuracy'], columns=['Accuracy Landscape', 'Accuracy Image'])\n",
    "    a.to_csv('/home/lmashatola/results/testing_accuracy.csv')\n",
    "    \n",
    "    b = np.array([[f1_micro_Image, f1_macro_Image, precision_Image, recall_Image], [f1_micro_Landscape, f1_macro_Landscape, precision_Landscape, recall_Landscape]]])\n",
    "    b = pd.DataFrame(b, index=['Image', 'Landscape'], columns=['F1 Score Micro', 'F1 Score Macro', 'Precision', 'TPR'])\n",
    "    b.to_csv('/home/lmashatola/results/testing_classification.csv')\n",
    "    \n",
    "    return a, b"
   ]
  },
  {
   "cell_type": "code",
   "execution_count": 109,
   "id": "084acf59-c08a-488f-bfb3-2b62ec75749e",
   "metadata": {},
   "outputs": [],
   "source": [
    "Test_accuracy_READ_LUAD, Test_classification_metrics_READ_LUAD = model_test(dgms_READ_LUAD, train_labs_READ_LUAD, Tdgms_READ_LUAD, test_labs_READ_LUAD, Testing_pipe_Landscape_READ_LUAD, Testing_pipe_Image_READ_LUAD) \n",
    "#READ vs LUAD"
   ]
  },
  {
   "cell_type": "code",
   "execution_count": null,
   "id": "5a5b22a7-6470-4c42-84a9-76af12704444",
   "metadata": {},
   "outputs": [
    {
     "name": "stderr",
     "output_type": "stream",
     "text": [
      "/Library/Frameworks/Python.framework/Versions/3.9/lib/python3.9/site-packages/sklearn/metrics/_classification.py:1318: UndefinedMetricWarning: Precision is ill-defined and being set to 0.0 due to no predicted samples. Use `zero_division` parameter to control this behavior.\n",
      "  _warn_prf(average, modifier, msg_start, len(result))\n"
     ]
    }
   ],
   "source": [
    "Test_accuracy_READ_BRCA, Test_classification_metrics_READ_BRCA = model_test(dgms_READ_BRCA, train_labs_READ_BRCA, Tdgms_READ_BRCA, test_labs_READ_BRCA, Testing_pipe_Landscape_READ_BRCA, Testing_pipe_Image_READ_BRCA) \n",
    "#READ_BRCA"
   ]
  },
  {
   "cell_type": "code",
   "execution_count": 115,
   "id": "cfb9381b-cd32-47ea-a784-241d976f8eda",
   "metadata": {},
   "outputs": [],
   "source": [
    "Test_accuracy_LUAD_BRCA, Test_classification_metrics_LUAD_BRCA = model_test(dgms_LUAD_BRCA, train_labs_LUAD_BRCA, Tdgms_LUAD_BRCA, test_labs_LUAD_BRCA,Testing_pipe_Landscape_LUAD_BRCA, Testing_pipe_Image_LUAD_BRCA) \n",
    "#LUAD_BRCA"
   ]
  }
 ],
 "metadata": {
  "kernelspec": {
   "display_name": "Python 3 (ipykernel)",
   "language": "python",
   "name": "python3"
  },
  "language_info": {
   "codemirror_mode": {
    "name": "ipython",
    "version": 3
   },
   "file_extension": ".py",
   "mimetype": "text/x-python",
   "name": "python",
   "nbconvert_exporter": "python",
   "pygments_lexer": "ipython3",
   "version": "3.9.11"
  }
 },
 "nbformat": 4,
 "nbformat_minor": 5
}
