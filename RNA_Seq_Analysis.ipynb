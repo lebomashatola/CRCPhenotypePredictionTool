{
 "cells": [
  {
   "cell_type": "code",
   "execution_count": null,
   "id": "60da60e5-aa52-47e3-9e96-c2bc5d2e2fb4",
   "metadata": {},
   "outputs": [],
   "source": [
    "import os\n",
    "import glob\n",
    "import pandas as pd"
   ]
  },
  {
   "cell_type": "code",
   "execution_count": null,
   "id": "05087c9f-cb96-4716-908d-0f7eaec9d3bf",
   "metadata": {},
   "outputs": [],
   "source": [
    "def fastqc(dir):\n",
    "    \n",
    "    os.chdir('~/fastq')\n",
    "    dirs_ = os.listdir('~/fastq')\n",
    "    dirs_.pop(0)\n",
    "    \n",
    "    for i in dirs_:\n",
    "        \n",
    "        os.chdir('~/fastq' + i)\n",
    "        seq = [f for f in glob.glob(\"*.fastq.gz\")]\n",
    "        os.system('fastqc -t 12 ' + '~/fastq' + i + '/' + seq[0] + ' ' + '~/fastq' + i + '/' + seq[1])"
   ]
  },
  {
   "cell_type": "code",
   "execution_count": null,
   "id": "488f08bd-0c85-426e-90f4-867f32baa764",
   "metadata": {},
   "outputs": [],
   "source": [
    "def trimmomatics():\n",
    "    \n",
    "    dirs_ = os.listdir('~/fastq')\n",
    "    dirs_.pop(0)\n",
    "    \n",
    "    for i in dirs_:\n",
    "        \n",
    "        os.chdir('~/fastq' + i)\n",
    "        seq = [f for f in glob.glob(\"*.fastq.gz\")]\n",
    "        \n",
    "        os.chdir('~/Trimmomatic-0.39')\n",
    "        os.system('java -jar trimmomatic-0.39.jar PE -phred33 ' +\n",
    "                  \n",
    "                  '~/fastq' + i + '/' + seq[0] + ' ' + '~/fastq' + i + '/' + seq[1] + ' ' +\n",
    "                  self.path_trim  + i + '/' + i + '_forward_paired.fastq.gz ' + self.path_trim + i + '/' + i + '_forward_unpaired.fastq.gz ' +\n",
    "                  self.path_trim + i + '/' + i + '_reverse_paired.fastq.gz ' + self.path_trim + i + '/' + i + '_reverse_unpaired.fastq.gz ' +\n",
    "                  \n",
    "                  'ILLUMINACLIP:adapters/TruSeq3-PE.fa:2:30:10:2:keepBothReads LEADING:3 TRAILING:3 MINLEN:36')"
   ]
  },
  {
   "cell_type": "code",
   "execution_count": null,
   "id": "1f972b1b-7662-4469-9396-ce3381352ade",
   "metadata": {},
   "outputs": [],
   "source": [
    "def finish():\n",
    "    \n",
    "    dirs_ = os.listdir('~/trimmed')\n",
    "    dirs_.pop(0)\n",
    "    \n",
    "    for i in dirs_:\n",
    "        os.system('rm -rf ~/trimmed' + i + '/*_unpaired*')"
   ]
  },
  {
   "cell_type": "code",
   "execution_count": null,
   "id": "e466cf98-500b-4c0c-bc1f-61de250a4a56",
   "metadata": {},
   "outputs": [],
   "source": [
    "def build_star():\n",
    "    \n",
    "    os.system('STAR --runThreadN 12 --runMode genomeGenerate --genomeDir ' +\n",
    "              '~/Documents/Genome --genomeFastaFiles ~/Genome/hg38.fa)"
   ]
  },
  {
   "cell_type": "code",
   "execution_count": null,
   "id": "9d044f77-f6a5-45d0-9c69-3f9bfe1a0de7",
   "metadata": {},
   "outputs": [],
   "source": [
    "def align_star():\n",
    "    \n",
    "    dirs_ = os.listdir('~/fastq')\n",
    "    dirs_.pop(0)\n",
    "    \n",
    "    for i in dirs_:\n",
    "        \n",
    "        os.chdir('~/fastq' + i)\n",
    "        seq = [f for f in glob.glob(\"*.fastq.gz\")]\n",
    "        \n",
    "        os.system('STAR --runThreadN 12 --genomeDir ~/Documents/Genome/ --readFilesIn ' + seq[0] + ' ' + seq[1] +\n",
    "                  ' --outFileNamePrefix ~/bam + i + '/' + i +\n",
    "                  ' --outSAMtype BAM SortedByCoordinate --readFilesCommand zcat')"
   ]
  },
  {
   "cell_type": "code",
   "execution_count": null,
   "id": "0cfe48d8-38f3-40ba-9845-d5e749225c71",
   "metadata": {},
   "outputs": [],
   "source": [
    "def align_QC():\n",
    "    \n",
    "    dirs_ = os.listdir('~/fastq')\n",
    "    dirs_.pop(0)\n",
    "\n",
    "    for i in dirs_:\n",
    "        \n",
    "        os.system('samtools flagstat ~/bam' + '/' + i + '/' + i + '.bam')\n",
    "        os.system('samtools stats ~/bam' + '/' + i + '/' + i + '.bam' +\n",
    "                   ' > ~/bamQC' + i + '/' + i + '_out.stats')\n",
    "\n",
    "        os.system('plot-bamstats -p ~/bamQC' + i + '/' + i + '_outQC ' +\n",
    "                  '~/bamQC' + i + '/' + i + '_out.stats')"
   ]
  },
  {
   "cell_type": "code",
   "execution_count": null,
   "id": "b0f0698f-fb49-4fac-803f-b19099356252",
   "metadata": {},
   "outputs": [],
   "source": [
    "def count():\n",
    "    \n",
    "    dirs_ = os.listdir('~/bam')\n",
    "    dirs_.pop(0)\n",
    "    \n",
    "    for i in dirs_:\n",
    "        os.system('htseq-count -f bam ' + i + '~/gencode.v38.annotation.gff3 ~/Count' + i + '.txt')"
   ]
  }
 ],
 "metadata": {
  "kernelspec": {
   "display_name": "Python 3 (ipykernel)",
   "language": "python",
   "name": "python3"
  },
  "language_info": {
   "codemirror_mode": {
    "name": "ipython",
    "version": 3
   },
   "file_extension": ".py",
   "mimetype": "text/x-python",
   "name": "python",
   "nbconvert_exporter": "python",
   "pygments_lexer": "ipython3",
   "version": "3.9.11"
  }
 },
 "nbformat": 4,
 "nbformat_minor": 5
}
