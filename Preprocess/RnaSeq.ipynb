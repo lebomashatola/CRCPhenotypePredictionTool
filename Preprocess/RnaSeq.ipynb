{
 "cells": [
  {
   "cell_type": "code",
   "execution_count": 11,
   "id": "c92f8158-96c5-49cd-8b90-e1841b2f33d5",
   "metadata": {},
   "outputs": [],
   "source": [
    "import os\n",
    "import pandas as pd"
   ]
  },
  {
   "cell_type": "code",
   "execution_count": 19,
   "id": "4d487ffd-ed99-46c7-a90c-5530a7d79e65",
   "metadata": {},
   "outputs": [],
   "source": [
    "def read_files_create_dataframe(path):\n",
    "    \n",
    "    df = pd.DataFrame()\n",
    "    directory = '/Users/lebohangmashatola/downloads/' + path + '/R/'\n",
    "    \n",
    "    for file in os.listdir(directory):\n",
    "                \n",
    "        filename = os.fsdecode(file)\n",
    "        read_data = directory + '/' + filename\n",
    "                        \n",
    "        try:\n",
    "            files = os.listdir(read_data)\n",
    "                                    \n",
    "        except:\n",
    "            continue\n",
    "        \n",
    "        for i in files:\n",
    "            \n",
    "            if i.endswith(\".tsv\"):\n",
    "                                \n",
    "                df_files = read_data + '/' + i\n",
    "                df_ = pd.read_csv(df_files, sep='\\t', header=1)\n",
    "                \n",
    "                df_ = df_.iloc[4:] #First 4 rows descriptions of columns and should be removed \n",
    "            \n",
    "                df_ = df_[df_['gene_type'].str.match('protein_coding')]\n",
    "                df_ = df_.set_index('gene_name')\n",
    "                df_ = df_[['fpkm_uq_unstranded']] #Other options include tpm unstranded; fpkm_unstranded \n",
    "                        \n",
    "                df = pd.concat([df, df_], axis=1)\n",
    "    \n",
    "    df = df.T\n",
    "    df = pd.DataFrame(df)\n",
    "    \n",
    "    output_directory = '/Users/lebohangmashatola/Documents/PhD/Expression/' + path + '.pkl'\n",
    "    df.to_pickle(output_directory, compression='infer', protocol=5, storage_options=None)"
   ]
  },
  {
   "cell_type": "code",
   "execution_count": 20,
   "id": "63155de8-7079-49a3-a669-29ced14146bc",
   "metadata": {},
   "outputs": [],
   "source": [
    "read_files_create_dataframe('folfox_r')"
   ]
  },
  {
   "cell_type": "code",
   "execution_count": 21,
   "id": "6465cf58-15c4-4d03-9a07-30bdec6bf4fb",
   "metadata": {},
   "outputs": [],
   "source": [
    "read_files_create_dataframe('folfox_s')"
   ]
  }
 ],
 "metadata": {
  "kernelspec": {
   "display_name": "Python 3 (ipykernel)",
   "language": "python",
   "name": "python3"
  },
  "language_info": {
   "codemirror_mode": {
    "name": "ipython",
    "version": 3
   },
   "file_extension": ".py",
   "mimetype": "text/x-python",
   "name": "python",
   "nbconvert_exporter": "python",
   "pygments_lexer": "ipython3",
   "version": "3.9.11"
  }
 },
 "nbformat": 4,
 "nbformat_minor": 5
}
