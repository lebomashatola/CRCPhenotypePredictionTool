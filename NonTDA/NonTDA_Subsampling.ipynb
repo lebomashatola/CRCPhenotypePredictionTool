{
 "cells": [
  {
   "cell_type": "code",
   "execution_count": 1,
   "id": "a0e0b085-4eff-42dc-bf8d-17594a2917af",
   "metadata": {},
   "outputs": [],
   "source": [
    "import os\n",
    "import gudhi\n",
    "import math\n",
    "import dcor\n",
    "import numpy as np\n",
    "import pandas as pd\n",
    "from gudhi import RipsComplex\n",
    "from sklearn import preprocessing\n",
    "from sklearn.pipeline import Pipeline\n",
    "from scipy.stats import pearsonr\n",
    "from gudhi.representations import Landscape, PersistenceImage\n",
    "from sklearn.neural_network import MLPClassifier\n",
    "from sklearn.model_selection import train_test_split\n",
    "from sklearn.preprocessing import quantile_transform\n",
    "from sklearn.metrics import accuracy_score, f1_score, precision_score, recall_score\n",
    "from sklearn.feature_selection import SelectKBest, chi2\n",
    "from sklearn.neural_network import MLPClassifier\n",
    "from sklearn.ensemble import RandomForestClassifier\n"
   ]
  },
  {
   "cell_type": "code",
   "execution_count": 2,
   "id": "35ca623f-df49-4d1d-a7b4-c6112d0988c3",
   "metadata": {},
   "outputs": [],
   "source": [
    "#READ GENE EXPRESSION MATRICES AS PICKLE FILES"
   ]
  },
  {
   "cell_type": "code",
   "execution_count": 3,
   "id": "b8694157-19d6-4617-929c-b98e53a20f0c",
   "metadata": {},
   "outputs": [],
   "source": [
    "def read_files_create_dataframe(path, ref):\n",
    "    \n",
    "    labelencoding = preprocessing.LabelEncoder()\n",
    "    \n",
    "    file_directory = '/Users/lebohangmashatola/Downloads/CRCPhenotypePredictionTool-main/expression/' + path\n",
    "    df = pd.read_csv(file_directory, sep=',', index_col=0)\n",
    "    df.columns = [ref] * df.shape[1]\n",
    "    \n",
    "    df = df.T\n",
    "    df = df.drop(columns=np.nan)\n",
    "    \n",
    "    df_quant = quantile_transform(df, n_quantiles=df.shape[0])\n",
    "    df_quant = pd.DataFrame(df_quant)\n",
    "    df_quant.columns = df.columns\n",
    "    df_quant.index = df.index\n",
    "    \n",
    "    return(df)"
   ]
  },
  {
   "cell_type": "code",
   "execution_count": 4,
   "id": "a0566bca-a385-48cc-ae20-2b28bbd1a924",
   "metadata": {},
   "outputs": [],
   "source": [
    "GSE19860_R = read_files_create_dataframe('GSE19860_RESISTANT_FOLFOX.csv', 'r')\n",
    "GSE19860_S = read_files_create_dataframe('GSE19860_SENSITIVE_FOLFOX.csv', 's')\n",
    "\n",
    "GSE28702_R = read_files_create_dataframe('GSE28702_RESISTANT_FOLFOX.csv', 'r')\n",
    "GSE28702_S = read_files_create_dataframe('GSE28702_SENSITIVE_FOLFOX.csv', 's')\n",
    "\n",
    "GSE52735_R = read_files_create_dataframe('GSE52735_RESISTANT_FOLFOX.csv', 'r')\n",
    "GSE52735_S = read_files_create_dataframe('GSE52735_SENSITIVE_FOLFOX.csv', 's')\n",
    "\n",
    "GSE69657_R = read_files_create_dataframe('GSE69657_RESISTANT_FOLFOX.csv', 'r')\n",
    "GSE69657_S = read_files_create_dataframe('GSE69657_SENSITIVE_FOLFOX.csv', 's')\n",
    "\n",
    "GSE72968_R = read_files_create_dataframe('GSE72968_RESISTANT_FOLFOX.csv', 'r')\n",
    "GSE72968_S = read_files_create_dataframe('GSE72968_SENSITIVE_FOLFOX.csv', 's')"
   ]
  },
  {
   "cell_type": "code",
   "execution_count": 5,
   "id": "a19cc96d-0190-47be-bc0f-753c295e32e3",
   "metadata": {},
   "outputs": [],
   "source": [
    "array_r = pd.concat([GSE19860_R, GSE28702_R, GSE52735_R, GSE69657_R, GSE72968_R], axis=0)\n",
    "array_s = pd.concat([GSE19860_S, GSE28702_S, GSE52735_S, GSE69657_S, GSE72968_S], axis=0)"
   ]
  },
  {
   "cell_type": "code",
   "execution_count": 6,
   "id": "6f04daa2-ac41-4660-8ac0-dc3bf551e32d",
   "metadata": {},
   "outputs": [],
   "source": [
    "GSE81653_R = read_files_create_dataframe('GSE81653_FOLFOX_RESISTANT.csv', 'r')\n",
    "GSE81653_S = read_files_create_dataframe('GSE81653_FOLFOX_SENSITIVE.csv', 's')"
   ]
  },
  {
   "cell_type": "code",
   "execution_count": 7,
   "id": "95152fa1-1b00-46ac-85bb-7c98d33f1ba0",
   "metadata": {},
   "outputs": [],
   "source": [
    "def read_files_rna_dataframe(path, ref):\n",
    "    \n",
    "    labelencoding = preprocessing.LabelEncoder()\n",
    "    \n",
    "    file_directory = '/Users/lebohangmashatola/Downloads/CRCPhenotypePredictionTool-main/expression/' + path\n",
    "    df = pd.read_csv(file_directory, sep=',', index_col=0)\n",
    "    \n",
    "    df.index = [ref] * df.shape[0]\n",
    "    \n",
    "    return(df)"
   ]
  },
  {
   "cell_type": "code",
   "execution_count": 8,
   "id": "364b6b80-3f34-46d3-a2a3-0f56e1101996",
   "metadata": {},
   "outputs": [],
   "source": [
    "rna_r = read_files_rna_dataframe('rnaseq_folfox_r.csv', 'r')\n",
    "rna_s = read_files_rna_dataframe('rnaseq_folfox_s.csv', 's')"
   ]
  },
  {
   "cell_type": "code",
   "execution_count": 9,
   "id": "5851c3aa-0d69-46b3-ba0c-9b325278eafa",
   "metadata": {},
   "outputs": [],
   "source": [
    "def train_test(case, control):\n",
    "    \n",
    "    labelencoding = preprocessing.LabelEncoder()\n",
    "    gene_exprs_matrix = pd.concat([case, control], axis=0)\n",
    "    subsampled_df = pd.DataFrame()\n",
    "    \n",
    "    for patient_expression in np.array(gene_exprs_matrix):\n",
    "        \n",
    "        patient_expression = patient_expression.reshape(patient_expression.shape[0], -1) \n",
    "        genes = gudhi.subsampling.choose_n_farthest_points(patient_expression, nb_points = 200) #nb_points are the number of points to retain 500-100 points   \n",
    "        subsampled_df = pd.concat([pd.DataFrame(genes), subsampled_df], axis=1)\n",
    "    \n",
    "    \n",
    "    subsampled_df = subsampled_df.T\n",
    "    subsampled_df.index = gene_exprs_matrix.index\n",
    "    \n",
    "    train, test = train_test_split(subsampled_df, test_size=0.3, train_size=0.7, random_state=0, shuffle=True)\n",
    "            \n",
    "    train_labs = labelencoding.fit_transform(train.index.to_list())\n",
    "    test_labs = labelencoding.fit_transform(test.index.to_list())\n",
    "    \n",
    "    return (np.array(train), np.array(test), train_labs, test_labs)"
   ]
  },
  {
   "cell_type": "code",
   "execution_count": 10,
   "id": "bd1b72ee-c4b3-4314-8939-abd3563f6c6f",
   "metadata": {},
   "outputs": [],
   "source": [
    "GSE81653_train, GSE81653_test, GSE81653_train_labs, GSE81653_test_labs = train_test(GSE81653_R, GSE81653_S)"
   ]
  },
  {
   "cell_type": "code",
   "execution_count": 11,
   "id": "57344efa-683a-4bfe-8884-4cf3a139c1af",
   "metadata": {},
   "outputs": [],
   "source": [
    "array_train, array_test, array_train_labs, array_test_labs = train_test(array_r, array_s)"
   ]
  },
  {
   "cell_type": "code",
   "execution_count": 12,
   "id": "2c1e375c-8ab8-4d2e-8aa0-e2733de82c81",
   "metadata": {},
   "outputs": [],
   "source": [
    "rnaseq_train, rnaseq_test, rnaseq_train_labs, rnaseq_test_labs = train_test(rna_r, rna_s)"
   ]
  },
  {
   "cell_type": "code",
   "execution_count": 13,
   "id": "ea947559-a43b-457e-ace6-5729ede0c6f3",
   "metadata": {},
   "outputs": [],
   "source": [
    "from keras.layers import Activation, Dropout, Flatten, Dense\n",
    "from keras.layers import Conv1D, MaxPooling1D\n",
    "import matplotlib.pyplot as plt\n",
    "from tensorflow.keras import layers\n",
    "from keras.models import Sequential\n",
    "from tensorflow import keras\n",
    "import tensorflow as tf\n",
    "from tensorflow.keras.optimizers import SGD\n",
    "from keras import backend as K"
   ]
  },
  {
   "cell_type": "code",
   "execution_count": 14,
   "id": "3ceac69b-2734-4b24-9980-cf0fc487360f",
   "metadata": {},
   "outputs": [],
   "source": [
    "def convoluted(X_train, X_test, y_train, y_test):\n",
    "    \n",
    "    from keras import backend as K\n",
    "    \n",
    "    def recall_m(y_true, y_pred):\n",
    "        true_positives = K.sum(K.round(K.clip(y_true * y_pred, 0, 1)))\n",
    "        possible_positives = K.sum(K.round(K.clip(y_true, 0, 1)))\n",
    "        recall = true_positives / (possible_positives + K.epsilon())\n",
    "        \n",
    "        return recall\n",
    "\n",
    "    def precision_m(y_true, y_pred):\n",
    "        true_positives = K.sum(K.round(K.clip(y_true * y_pred, 0, 1)))\n",
    "        predicted_positives = K.sum(K.round(K.clip(y_pred, 0, 1)))\n",
    "        precision = true_positives / (predicted_positives + K.epsilon())\n",
    "        \n",
    "        return precision\n",
    "\n",
    "    def f1_m(y_true, y_pred):\n",
    "        precision = precision_m(y_true, y_pred)\n",
    "        recall = recall_m(y_true, y_pred)\n",
    "        \n",
    "        return 2*((precision*recall)/(precision+recall+K.epsilon()))\n",
    "        \n",
    "    X_train = np.expand_dims(X_train, axis=2).astype('float32')\n",
    "    X_test = np.expand_dims(X_test, axis=2).astype('float32')\n",
    "    \n",
    "    model = Sequential()\n",
    "\n",
    "    model.add(Conv1D(filters=1024, kernel_size=2, activation='relu', input_shape=(X_train.shape[1], X_train.shape[2])))\n",
    "    model.add(Conv1D(filters=128, kernel_size=2, activation='relu'))\n",
    "    model.add(Conv1D(filters=16, kernel_size=2, activation='relu'))\n",
    "    model.add(Dropout(0.5))\n",
    "    \n",
    "    model.add(MaxPooling1D(pool_size=2))\n",
    "    model.add(Flatten())\n",
    "    \n",
    "    model.add(Dense(8, activation='relu'))\n",
    "    model.add(Dense(1, activation='relu'))\n",
    "    \n",
    "    \n",
    "    model.compile(loss='binary_crossentropy', optimizer='adam', metrics=['accuracy',f1_m,precision_m, recall_m])\n",
    "    #keras.utils.plot_model(model, \"multi_input_and_output_model.png\", show_shapes=True)\n",
    "    \n",
    "    history = model.fit(X_train, y_train, epochs = 30, shuffle=True, verbose=0)\n",
    "    loss, accuracy, f1_score, precision, recall = model.evaluate(X_test, y_test, verbose=0)\n",
    "    \n",
    "    scores = np.array([f1_score*100, recall*100, precision*100, accuracy*100])\n",
    "    \n",
    "    return scores\n",
    "    "
   ]
  },
  {
   "cell_type": "code",
   "execution_count": 15,
   "id": "82aa0a15-9689-4aa3-9db6-643eef1925d7",
   "metadata": {},
   "outputs": [
    {
     "name": "stderr",
     "output_type": "stream",
     "text": [
      "2022-11-25 21:33:45.296835: I tensorflow/core/platform/cpu_feature_guard.cc:151] This TensorFlow binary is optimized with oneAPI Deep Neural Network Library (oneDNN) to use the following CPU instructions in performance-critical operations:  AVX2 AVX512F FMA\n",
      "To enable them in other operations, rebuild TensorFlow with the appropriate compiler flags.\n"
     ]
    }
   ],
   "source": [
    "gse = convoluted(GSE81653_train, GSE81653_test, GSE81653_train_labs, GSE81653_test_labs)"
   ]
  },
  {
   "cell_type": "code",
   "execution_count": 16,
   "id": "382f3376-a71c-406f-b210-d0718774b34c",
   "metadata": {},
   "outputs": [],
   "source": [
    "arr = convoluted(array_train, array_test, array_train_labs, array_test_labs)"
   ]
  },
  {
   "cell_type": "code",
   "execution_count": 17,
   "id": "3dc901c7-90e2-4e73-bf36-f1c61f06ab13",
   "metadata": {},
   "outputs": [],
   "source": [
    "rna = convoluted(rnaseq_train, rnaseq_test, rnaseq_train_labs, rnaseq_test_labs)"
   ]
  },
  {
   "cell_type": "code",
   "execution_count": 18,
   "id": "19e46f5e-50ee-415c-9db8-1503506ce54c",
   "metadata": {},
   "outputs": [],
   "source": [
    "all_metrics = np.stack([gse, arr, rna])"
   ]
  },
  {
   "cell_type": "code",
   "execution_count": 51,
   "id": "281313f0-0285-412e-93cb-37b58c48ef38",
   "metadata": {},
   "outputs": [
    {
     "data": {
      "text/plain": [
       "<AxesSubplot:>"
      ]
     },
     "execution_count": 51,
     "metadata": {},
     "output_type": "execute_result"
    },
    {
     "data": {
      "image/png": "[encoded data removed]",
      "text/plain": [
       "<Figure size 432x288 with 1 Axes>"
      ]
     },
     "metadata": {
      "image/png": {
       "height": 253,
       "width": 373
      }
     },
     "output_type": "display_data"
    }
   ],
   "source": [
    "c = pd.DataFrame(all_metrics,\n",
    "             index=['GSE81653', 'Array', 'RNASeq'], \n",
    "             columns=['F1 Score Macro', 'Recall', 'Precision', 'Accuracy'])\n",
    "\n",
    "%config InlineBackend.figure_format = 'retina'\n",
    "import seaborn as sns\n",
    "sns.set(font_scale=1.2)\n",
    "color = ['orange','darkorange','lightgrey', 'grey']\n",
    "sns.barplot(data=c, capsize=0.15, errcolor=\"0\", errwidth=0.7, palette=color)"
   ]
  },
  {
   "cell_type": "code",
   "execution_count": 20,
   "id": "9c3e129b-d3cf-4487-a1b0-4271fd0ba184",
   "metadata": {},
   "outputs": [],
   "source": [
    "def MLPClass(X_train, X_test, y_train, y_test):\n",
    "    \n",
    "    from sklearn.neural_network import MLPClassifier\n",
    "    \n",
    "    clf = MLPClassifier(random_state=1, max_iter=300).fit(X_train, y_train)\n",
    "    y_pred = clf.predict(X_test)\n",
    "    \n",
    "    f1 = f1_score(y_test, y_pred, average=\"macro\")\n",
    "    pr = precision_score(y_test, y_pred, average=\"macro\")\n",
    "    re = recall_score(y_test, y_pred, average=\"macro\")\n",
    "    acc = accuracy_score(y_test, y_pred)\n",
    "    \n",
    "    scores = np.array([f1*100, re*100, pr*100, acc*100])\n",
    "    return scores"
   ]
  },
  {
   "cell_type": "code",
   "execution_count": 50,
   "id": "2caef4e5-3b76-44a6-90a0-56540c7d9200",
   "metadata": {},
   "outputs": [
    {
     "name": "stderr",
     "output_type": "stream",
     "text": [
      "/Library/Frameworks/Python.framework/Versions/3.9/lib/python3.9/site-packages/sklearn/neural_network/_multilayer_perceptron.py:692: ConvergenceWarning: Stochastic Optimizer: Maximum iterations (300) reached and the optimization hasn't converged yet.\n",
      "  warnings.warn(\n"
     ]
    },
    {
     "data": {
      "text/plain": [
       "<AxesSubplot:>"
      ]
     },
     "execution_count": 50,
     "metadata": {},
     "output_type": "execute_result"
    },
    {
     "data": {
      "image/png": "[encoded data removed]",
      "text/plain": [
       "<Figure size 432x288 with 1 Axes>"
      ]
     },
     "metadata": {
      "image/png": {
       "height": 253,
       "width": 373
      }
     },
     "output_type": "display_data"
    }
   ],
   "source": [
    "gse = MLPClass(GSE81653_train, GSE81653_test, GSE81653_train_labs, GSE81653_test_labs)\n",
    "arr = MLPClass(array_train, array_test, array_train_labs, array_test_labs)\n",
    "rna = MLPClass(rnaseq_train, rnaseq_test, rnaseq_train_labs, rnaseq_test_labs)\n",
    "all_metrics = np.stack([gse, arr, rna])\n",
    "c = pd.DataFrame(all_metrics,\n",
    "             index=['GSE81653', 'Array', 'RNASeq'], \n",
    "             columns=['F1 Score Macro', 'Recall', 'Precision', 'Accuracy'])\n",
    "\n",
    "%config InlineBackend.figure_format = 'retina'\n",
    "import seaborn as sns\n",
    "sns.set(font_scale=1.2)\n",
    "color = ['orange','darkorange','lightgrey', 'grey']\n",
    "sns.barplot(data=c, capsize=0.15, errcolor=\"0\", errwidth=0.7, palette=color)"
   ]
  },
  {
   "cell_type": "code",
   "execution_count": 22,
   "id": "fe9bbd22-c094-4559-8b52-54a662a6e06e",
   "metadata": {},
   "outputs": [],
   "source": [
    "def RFClass(X_train, X_test, y_train, y_test):\n",
    "    \n",
    "    from sklearn.ensemble import RandomForestClassifier\n",
    "    \n",
    "    clf = RandomForestClassifier(max_depth=100, random_state=0).fit(X_train, y_train)\n",
    "    y_pred = clf.predict(X_test)\n",
    "    \n",
    "    f1 = f1_score(y_test, y_pred, average=\"macro\")\n",
    "    pr = precision_score(y_test, y_pred, average=\"macro\")\n",
    "    re = recall_score(y_test, y_pred, average=\"macro\")\n",
    "    acc = accuracy_score(y_test, y_pred)\n",
    "    \n",
    "    scores = np.array([f1*100, re*100, pr*100, acc*100])\n",
    "    return scores"
   ]
  },
  {
   "cell_type": "code",
   "execution_count": 49,
   "id": "b3e5daff-3bf2-4471-8833-c3f60af668ab",
   "metadata": {},
   "outputs": [
    {
     "data": {
      "text/plain": [
       "<AxesSubplot:>"
      ]
     },
     "execution_count": 49,
     "metadata": {},
     "output_type": "execute_result"
    },
    {
     "data": {
      "image/png": "[encoded data removed]",
      "text/plain": [
       "<Figure size 432x288 with 1 Axes>"
      ]
     },
     "metadata": {
      "image/png": {
       "height": 253,
       "width": 373
      }
     },
     "output_type": "display_data"
    }
   ],
   "source": [
    "gse = RFClass(GSE81653_train, GSE81653_test, GSE81653_train_labs, GSE81653_test_labs)\n",
    "arr = RFClass(array_train, array_test, array_train_labs, array_test_labs)\n",
    "rna = RFClass(rnaseq_train, rnaseq_test, rnaseq_train_labs, rnaseq_test_labs)\n",
    "all_metrics = np.stack([gse, arr, rna])\n",
    "\n",
    "c = pd.DataFrame(all_metrics,\n",
    "             index=['GSE81653', 'Array', 'RNASeq'], \n",
    "             columns=['F1 Score Macro', 'Recall', 'Precision', 'Accuracy'])\n",
    "\n",
    "%config InlineBackend.figure_format = 'retina'\n",
    "import seaborn as sns\n",
    "sns.set(font_scale=1.2)\n",
    "color = ['orange','darkorange','lightgrey', 'grey']\n",
    "sns.barplot(data=c, capsize=0.15, errcolor=\"0\", errwidth=0.7, palette=color)"
   ]
  },
  {
   "cell_type": "code",
   "execution_count": null,
   "id": "fd584395-8dec-4964-95db-20812a3514b7",
   "metadata": {},
   "outputs": [],
   "source": []
  }
 ],
 "metadata": {
  "kernelspec": {
   "display_name": "Python 3 (ipykernel)",
   "language": "python",
   "name": "python3"
  },
  "language_info": {
   "codemirror_mode": {
    "name": "ipython",
    "version": 3
   },
   "file_extension": ".py",
   "mimetype": "text/x-python",
   "name": "python",
   "nbconvert_exporter": "python",
   "pygments_lexer": "ipython3",
   "version": "3.9.11"
  }
 },
 "nbformat": 4,
 "nbformat_minor": 5
}
