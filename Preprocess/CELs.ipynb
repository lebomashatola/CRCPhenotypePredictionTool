{
 "cells": [
  {
   "cell_type": "code",
   "execution_count": 2,
   "id": "04f6b2aa-44ba-4ace-87e7-aedaf8843151",
   "metadata": {},
   "outputs": [],
   "source": [
    "library(biomaRt)"
   ]
  },
  {
   "cell_type": "code",
   "execution_count": 20,
   "id": "3cedca69-c72a-45a6-af68-fcf49392f639",
   "metadata": {},
   "outputs": [],
   "source": [
    "preprocess = function(file){\n",
    "    \n",
    "    library(oligo)\n",
    "    library(gcrma)\n",
    "    library(data.table)\n",
    "    library(biomaRt)\n",
    "    \n",
    "    read = list.celfiles(paste('/Users/lebomash/Documents/PhD/PhD_2022/Counts/', file, sep=''), full.name=TRUE)\n",
    "    read = read.celfiles(read)\n",
    "    read = oligo::rma(read)\n",
    "    read = exprs(read)\n",
    "    \n",
    "    probeIDs = rownames(read)\n",
    "    read = as.data.frame(read)\n",
    "    \n",
    "    read = setDT(read, keep.rownames = TRUE)[]\n",
    "    colnames(read)[1] = 'affy_hg_u133_plus_2'\n",
    "    \n",
    "    mart = useMart(biomart='ENSEMBL_MART_ENSEMBL',\n",
    "                dataset = 'hsapiens_gene_ensembl',\n",
    "                host = 'https://useast.ensembl.org')\n",
    "    \n",
    "    df = getBM(attributes= c('affy_hg_u133_plus_2', 'hgnc_symbol'),\n",
    "               filters = 'affy_hg_u133_plus_2',\n",
    "               values = probeIDs,\n",
    "               mart = mart)\n",
    "    \n",
    "    df_new = merge(df, read, by='affy_hg_u133_plus_2')\n",
    "    df_new = df_new[,-1]\n",
    "    \n",
    "    df_new = df_new[!duplicated(df_new$hgnc_symbol), ]\n",
    "    rownames(df_new) = df_new$hgnc_symbol\n",
    "    \n",
    "    df_new = df_new[,-1]\n",
    "    write.csv(df_new, paste('/Users/lebomash/documents/', file, '.csv', sep=''))\n",
    "    \n",
    "}"
   ]
  },
  {
   "cell_type": "code",
   "execution_count": 21,
   "id": "01758990-082c-4b95-b030-43c9daed6cdb",
   "metadata": {},
   "outputs": [
    {
     "name": "stderr",
     "output_type": "stream",
     "text": [
      "Platform design info loaded.\n",
      "\n"
     ]
    },
    {
     "name": "stdout",
     "output_type": "stream",
     "text": [
      "Reading in : /Users/lebomash/Documents/PhD/PhD_2022/Counts/GSE19860_RESISTANT_FOLFOX/R1.CEL.gz\n",
      "Reading in : /Users/lebomash/Documents/PhD/PhD_2022/Counts/GSE19860_RESISTANT_FOLFOX/R10.CEL.gz\n",
      "Reading in : /Users/lebomash/Documents/PhD/PhD_2022/Counts/GSE19860_RESISTANT_FOLFOX/R11.CEL.gz\n",
      "Reading in : /Users/lebomash/Documents/PhD/PhD_2022/Counts/GSE19860_RESISTANT_FOLFOX/R2.CEL.gz\n",
      "Reading in : /Users/lebomash/Documents/PhD/PhD_2022/Counts/GSE19860_RESISTANT_FOLFOX/R3.CEL.gz\n",
      "Reading in : /Users/lebomash/Documents/PhD/PhD_2022/Counts/GSE19860_RESISTANT_FOLFOX/R4.CEL.gz\n",
      "Reading in : /Users/lebomash/Documents/PhD/PhD_2022/Counts/GSE19860_RESISTANT_FOLFOX/R5.CEL.gz\n",
      "Reading in : /Users/lebomash/Documents/PhD/PhD_2022/Counts/GSE19860_RESISTANT_FOLFOX/R6.CEL.gz\n",
      "Reading in : /Users/lebomash/Documents/PhD/PhD_2022/Counts/GSE19860_RESISTANT_FOLFOX/R7.CEL.gz\n",
      "Reading in : /Users/lebomash/Documents/PhD/PhD_2022/Counts/GSE19860_RESISTANT_FOLFOX/R8.CEL.gz\n",
      "Reading in : /Users/lebomash/Documents/PhD/PhD_2022/Counts/GSE19860_RESISTANT_FOLFOX/R9.CEL.gz\n",
      "Background correcting\n",
      "Normalizing\n",
      "Calculating Expression\n"
     ]
    },
    {
     "name": "stderr",
     "output_type": "stream",
     "text": [
      "\n",
      "Batch submitting query [==>----------------------------]   9% eta:  3m\n",
      "\n",
      "Batch submitting query [=====>-------------------------]  18% eta:  3m\n",
      "\n",
      "Batch submitting query [=======>-----------------------]  27% eta:  2m\n",
      "\n",
      "Batch submitting query [==========>--------------------]  36% eta:  2m\n",
      "\n",
      "Batch submitting query [=============>-----------------]  45% eta:  2m\n",
      "\n",
      "Batch submitting query [================>--------------]  55% eta:  1m\n",
      "\n",
      "Batch submitting query [===================>-----------]  64% eta:  1m\n",
      "\n",
      "Batch submitting query [======================>--------]  73% eta: 49s\n",
      "\n",
      "Batch submitting query [========================>------]  82% eta: 33s\n",
      "\n",
      "Batch submitting query [===========================>---]  91% eta: 16s\n",
      "                                                                      \n",
      "\n"
     ]
    }
   ],
   "source": [
    "preprocess('GSE19860_RESISTANT_FOLFOX')"
   ]
  },
  {
   "cell_type": "code",
   "execution_count": 22,
   "id": "2499e4c5-275b-4865-95b8-61502ad0fc7c",
   "metadata": {},
   "outputs": [
    {
     "name": "stderr",
     "output_type": "stream",
     "text": [
      "Platform design info loaded.\n",
      "\n"
     ]
    },
    {
     "name": "stdout",
     "output_type": "stream",
     "text": [
      "Reading in : /Users/lebomash/Documents/PhD/PhD_2022/Counts/GSE19860_SENSITIVE_FOLFOX/S1.CEL.gz\n",
      "Reading in : /Users/lebomash/Documents/PhD/PhD_2022/Counts/GSE19860_SENSITIVE_FOLFOX/S2.CEL.gz\n",
      "Reading in : /Users/lebomash/Documents/PhD/PhD_2022/Counts/GSE19860_SENSITIVE_FOLFOX/S3.CEL.gz\n",
      "Background correcting\n",
      "Normalizing\n",
      "Calculating Expression\n"
     ]
    }
   ],
   "source": [
    "preprocess('GSE19860_SENSITIVE_FOLFOX')"
   ]
  },
  {
   "cell_type": "code",
   "execution_count": null,
   "id": "ae6f3580-3b9e-4348-b82b-c9044878e918",
   "metadata": {},
   "outputs": [],
   "source": [
    "preprocess('GSE28702_RESISTANT_FOLFOX')"
   ]
  },
  {
   "cell_type": "code",
   "execution_count": null,
   "id": "890d388e-953c-44ad-a70c-088be8cc9963",
   "metadata": {},
   "outputs": [],
   "source": [
    "preprocess('GSE28702_SENSITIVE_FOLFOX')"
   ]
  },
  {
   "cell_type": "code",
   "execution_count": null,
   "id": "34eb74d3-07ce-4ef4-ba8c-222f67736834",
   "metadata": {},
   "outputs": [],
   "source": [
    "preprocess('GSE52735_RESISTANT_FOLFOX')"
   ]
  },
  {
   "cell_type": "code",
   "execution_count": null,
   "id": "ed6c2201-50ad-431e-bea3-7e9be4d21e56",
   "metadata": {},
   "outputs": [],
   "source": [
    "preprocess('GSE52735_SENSITIVE_FOLFOX')"
   ]
  },
  {
   "cell_type": "code",
   "execution_count": null,
   "id": "e0b01de7-09b0-4940-add0-5e2272d676c9",
   "metadata": {},
   "outputs": [],
   "source": [
    "preprocess('GSE69657_RESISTANT_FOLFOX')"
   ]
  },
  {
   "cell_type": "code",
   "execution_count": null,
   "id": "c0e5a427-b5d9-4524-a6d6-1cb1f2788ab5",
   "metadata": {},
   "outputs": [],
   "source": [
    "preprocess('GSE69657_SENSITIVE_FOLFOX')"
   ]
  },
  {
   "cell_type": "code",
   "execution_count": null,
   "id": "61fad389-93c8-4256-bda7-0882c5d42804",
   "metadata": {},
   "outputs": [],
   "source": [
    "preprocess('GSE72968_RESISTANT_FOLFOX')"
   ]
  },
  {
   "cell_type": "code",
   "execution_count": null,
   "id": "ed564b50-fda7-451d-abf8-8a8f41af745b",
   "metadata": {},
   "outputs": [],
   "source": [
    "preprocess('GSE72968_RESISTANT_FOLFOX')"
   ]
  },
  {
   "cell_type": "code",
   "execution_count": null,
   "id": "d3070e89-8926-4c6a-99f7-bc2e44d7ba75",
   "metadata": {},
   "outputs": [],
   "source": [
    "preprocess('GSE81653_RESISTANT_FOLFOX')"
   ]
  },
  {
   "cell_type": "code",
   "execution_count": null,
   "id": "cf8c48f3-f4c6-407c-92ac-b1b444d8524e",
   "metadata": {},
   "outputs": [],
   "source": [
    "preprocess('GSE81653_SENSITIVE_FOLFOX')"
   ]
  }
 ],
 "metadata": {
  "kernelspec": {
   "display_name": "R",
   "language": "R",
   "name": "ir"
  },
  "language_info": {
   "codemirror_mode": "r",
   "file_extension": ".r",
   "mimetype": "text/x-r-source",
   "name": "R",
   "pygments_lexer": "r",
   "version": "4.2.1"
  }
 },
 "nbformat": 4,
 "nbformat_minor": 5
}
