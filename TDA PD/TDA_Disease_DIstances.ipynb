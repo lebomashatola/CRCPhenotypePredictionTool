{
 "cells": [
  {
   "cell_type": "code",
   "execution_count": 1,
   "id": "fc9b94fd-dfc6-4127-a36b-3bbdf66ae062",
   "metadata": {},
   "outputs": [],
   "source": [
    "from sklearn.metrics import accuracy_score, f1_score, precision_score, recall_score\n",
    "from gudhi.weighted_rips_complex import WeightedRipsComplex\n",
    "from sklearn.model_selection import train_test_split\n",
    "from sklearn.neural_network import MLPClassifier\n",
    "from gudhi.representations import Landscape\n",
    "from sklearn.pipeline import Pipeline\n",
    "from sklearn import preprocessing\n",
    "import pandas as pd \n",
    "import numpy as np\n",
    "import gudhi\n",
    "import math\n",
    "import dcor \n",
    "import os"
   ]
  },
  {
   "cell_type": "code",
   "execution_count": 2,
   "id": "5599b103-da35-4668-bf1a-8e9ec92cc987",
   "metadata": {},
   "outputs": [],
   "source": [
    "#READ RNA COUNT MATRICES (.TSV) FILES AND MERGE INTO A SINGLE DATASET "
   ]
  },
  {
   "cell_type": "code",
   "execution_count": 3,
   "id": "27048b01-a58b-4fbc-aa46-556554e0c2ec",
   "metadata": {},
   "outputs": [],
   "source": [
    "def read_rnaseq(path):\n",
    "    \n",
    "    pickle_file_directory = '/rnaseq/' + path + '.pkl'\n",
    "    \n",
    "    df = pd.read_pickle(pickle_file_directory)\n",
    "    \n",
    "    filepath_biomarkers = '/biomarkers/mapk.csv' \n",
    "    \n",
    "    biomarkers = pd.read_csv(filepath_biomarkers, index_col=0, sep=';') \n",
    "    biomarkers = biomarkers[\"x\"].to_numpy()    \n",
    "    gene_exprs = df[np.intersect1d(df.columns, biomarkers)]\n",
    "\n",
    "    return gene_exprs"
   ]
  },
  {
   "cell_type": "code",
   "execution_count": null,
   "id": "6ef1549c-e435-4a7a-879b-f76b62bd969e",
   "metadata": {},
   "outputs": [],
   "source": [
    "def read_microarray(path):\n",
    "    \n",
    "    file_directory = '/microarray/' + path + '.pkl'\n",
    "    \n",
    "    df = pd.read_csv(file_directory)\n",
    "    \n",
    "    filepath_biomarkers = '/biomarkers/mapk.csv' \n",
    "    \n",
    "    biomarkers = pd.read_csv(filepath_biomarkers, index_col=0, sep=';') \n",
    "    biomarkers = biomarkers[\"x\"].to_numpy()    \n",
    "    gene_exprs = df[np.intersect1d(df.columns, biomarkers)]\n",
    "\n",
    "    return gene_exprs"
   ]
  },
  {
   "cell_type": "code",
   "execution_count": 6,
   "id": "f7f1037c-72f2-448f-9ca2-a3a661febd46",
   "metadata": {},
   "outputs": [],
   "source": [
    "#MERGE THE DATASETS (DIFFERENT CANCER TYPES AND PERFORM DATA SPLIT TRAIN (70%) AND TEST (30%)"
   ]
  },
  {
   "cell_type": "code",
   "execution_count": 7,
   "id": "fd9fabe0-005e-4af2-acc0-155c3b2fc65a",
   "metadata": {},
   "outputs": [],
   "source": [
    "def merge_split(R, S):\n",
    "    \n",
    "    labelencoding = preprocessing.LabelEncoder()\n",
    "    \n",
    "    gene_mtrx = pd.concat([R, S], axis=0)            \n",
    "    train, test = train_test_split(gene_mtrx, test_size=0.3, train_size=0.7, random_state=0, shuffle=True)\n",
    "            \n",
    "    train_labs = labelencoding.fit_transform(train.index.to_list())\n",
    "    test_labs = labelencoding.fit_transform(test.index.to_list())\n",
    "    \n",
    "    return np.array(train), np.array(test), train_labs, test_labs"
   ]
  },
  {
   "cell_type": "code",
   "execution_count": 10,
   "id": "dbd3db18-db73-4fd8-82f5-fb8a7aaad6e1",
   "metadata": {},
   "outputs": [],
   "source": [
    "#INTERGENE CORRELATION MEASURE USING DCOR "
   ]
  },
  {
   "cell_type": "code",
   "execution_count": 11,
   "id": "581e56a0-a140-48f7-a453-7741c1e08aec",
   "metadata": {},
   "outputs": [],
   "source": [
    "def intergene_correlation_measure(DF):\n",
    "    \n",
    "    num_genes = DF.shape[1]\n",
    "    \n",
    "    dist = np.zeros((num_genes, num_genes))\n",
    "    \n",
    "    for i in range(num_genes):\n",
    "        for j in range(i+1, num_genes):\n",
    "            \n",
    "            dist[i,j] = dcor.distance_correlation(DF[:,i], DF[:,j])\n",
    "    \n",
    "    dist = dist + dist.T + np.eye(num_genes)\n",
    "    \n",
    "    return 1 - dist "
   ]
  },
  {
   "cell_type": "code",
   "execution_count": 15,
   "id": "56d32b01-45e6-472c-8b85-52fb0a9081bb",
   "metadata": {},
   "outputs": [],
   "source": [
    "#PER-PATIENT DISTANCE MATRIX ADDING FROM GLOBAL DISTANCE MATRIX"
   ]
  },
  {
   "cell_type": "code",
   "execution_count": 16,
   "id": "fb2e5467-8576-4dd5-bf27-4f1c9b1c8dca",
   "metadata": {},
   "outputs": [],
   "source": [
    "def patient_correlation_measure(F, M):\n",
    "    \n",
    "    dist = np.zeros((M.shape[1], M.shape[1]))\n",
    "    num_genes = M.shape[1]\n",
    "    \n",
    "    for i in range(num_genes):\n",
    "        \n",
    "        for j in range(i+1, num_genes):\n",
    "            \n",
    "            b = abs((F[i]**2 - F[j]**2) / M[i,j])\n",
    "            dist[i,j] = math.sqrt(M[i, j]**2 + b**2 + 2*F[i]**2 + 2*F[j]**2)/2 #weighting algorithm derived from Mandal et al., 2020\n",
    "    \n",
    "    dist = dist + dist.T + np.eye(num_genes)\n",
    "    \n",
    "    return dist"
   ]
  },
  {
   "cell_type": "code",
   "execution_count": 18,
   "id": "bc9a7ace-93a6-4509-bce1-a917516f9ebe",
   "metadata": {},
   "outputs": [],
   "source": [
    "#TOPOLOGICAL DATA ANALYSIS USING GUDHI, RETURNS PER-PATIENT PERSISTENT DIAGRAMS IN ZERO-TH DIMENSION "
   ]
  },
  {
   "cell_type": "code",
   "execution_count": 89,
   "id": "9e421816-e2c4-4d8f-9d21-28937254b40b",
   "metadata": {},
   "outputs": [],
   "source": [
    "def simplicial_patient(X, M, name):\n",
    "    \n",
    "    dgms, dgms1 = [], []\n",
    "    \n",
    "    for s in X:\n",
    "        \n",
    "        distance_matrix = patient_correlation_measure(s, M)\n",
    "        rips_complex = RipsComplex(distance_matrix).create_simplex_tree(max_dimension=1) #Weights used include per-patient gene expressions\n",
    "        \n",
    "        rips_complex.collapse_edges()\n",
    "        rips_complex.expansion(2)\n",
    "        rips_complex.persistence()\n",
    "    \n",
    "        Persistent_diagrams0.append(rips_complex.persistence_intervals_in_dimension(0))\n",
    "        Persistent_diagrams1.append(rips_complex.persistence_intervals_in_dimension(1))\n",
    "        \n",
    "    remove_infinity = lambda barcode : np.array([bars for bars in barcode if bars[1]!= np.inf])\n",
    "    dgms = list(map(remove_infinity, dgms))\n",
    "    dgms1 = list(map(remove_infinity, dgms1))\n",
    "    \n",
    "    return dgms   "
   ]
  },
  {
   "cell_type": "code",
   "execution_count": 92,
   "id": "58f7d5fe-b8cd-464b-9e49-5db99bb0dcc9",
   "metadata": {},
   "outputs": [],
   "source": [
    "#SKLEARN PIPELINE WITH GUDHI PERSISTENT DIAGRAM OUTPUT "
   ]
  },
  {
   "cell_type": "code",
   "execution_count": 93,
   "id": "701fbc93-843c-4bec-a79b-142456bcf09f",
   "metadata": {},
   "outputs": [],
   "source": [
    "def TDA_representations(train_dataset):\n",
    "    \n",
    "    pipe_Landscape = Pipeline([(\"TDA\", Landscape(num_landscapes=10, resolution=len(train_dataset), sample_range=[0,len(train_dataset)])),\n",
    "                               (\"Estimator\", MLPClassifier(early_stopping=True))])\n",
    "    \n",
    "    return pipe_Landscape"
   ]
  },
  {
   "cell_type": "code",
   "execution_count": 96,
   "id": "fd2d6fef-2296-42a3-bf93-4bb3d76c56c3",
   "metadata": {},
   "outputs": [],
   "source": [
    "#MODEL TRAINING "
   ]
  },
  {
   "cell_type": "code",
   "execution_count": 97,
   "id": "ca090317-7243-406f-9435-03f443d72426",
   "metadata": {},
   "outputs": [],
   "source": [
    "def model_train(dgms, labs, Tdgsm, Tlabs, pipe_Landscape):\n",
    "        \n",
    "    trained_model_landscape = pipe_Landscape.fit(dgms, labs)    \n",
    "    predicted_label_lanscape = trained_model_landscape.predict(dgms)\n",
    "        \n",
    "    f1_micro_Landscape = f1_score(labs, predicted_label_lanscape, average=\"micro\")\n",
    "    f1_macro_Landscape = f1_score(labs, predicted_label_lanscape, average=\"macro\")\n",
    "    \n",
    "    recall_Landscape = recall_score(labs, predicted_label_lanscape)\n",
    "    precision_Landscape = precision_score(labs, predicted_label_lanscape)\n",
    "    \n",
    "    a = np.array([[trained_model_landscape.score(dgms, labs), trained_model_Image.score(dgms, labs)]])\n",
    "    b = np.array([[trained_model_landscape.score(Tdgsm, Tlabs), trained_model_Image.score(Tdgsm, Tlabs)]])\n",
    "    \n",
    "    return a, b"
   ]
  }
 ],
 "metadata": {
  "kernelspec": {
   "display_name": "Python 3 (ipykernel)",
   "language": "python",
   "name": "python3"
  },
  "language_info": {
   "codemirror_mode": {
    "name": "ipython",
    "version": 3
   },
   "file_extension": ".py",
   "mimetype": "text/x-python",
   "name": "python",
   "nbconvert_exporter": "python",
   "pygments_lexer": "ipython3",
   "version": "3.9.11"
  }
 },
 "nbformat": 4,
 "nbformat_minor": 5
}
