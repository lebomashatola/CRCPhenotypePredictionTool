{
 "cells": [
  {
   "cell_type": "code",
   "execution_count": 22,
   "metadata": {},
   "outputs": [],
   "source": [
    "import os\n",
    "import pandas as pd"
   ]
  },
  {
   "cell_type": "code",
   "execution_count": 39,
   "metadata": {},
   "outputs": [],
   "source": [
    "os.chdir(\"/Users/lebohangmashatola/downloads/folfox_s_2/\")"
   ]
  },
  {
   "cell_type": "code",
   "execution_count": 40,
   "metadata": {},
   "outputs": [
    {
     "data": {
      "text/html": [
       "<div>\n",
       "<style scoped>\n",
       "    .dataframe tbody tr th:only-of-type {\n",
       "        vertical-align: middle;\n",
       "    }\n",
       "\n",
       "    .dataframe tbody tr th {\n",
       "        vertical-align: top;\n",
       "    }\n",
       "\n",
       "    .dataframe thead th {\n",
       "        text-align: right;\n",
       "    }\n",
       "</style>\n",
       "<table border=\"1\" class=\"dataframe\">\n",
       "  <thead>\n",
       "    <tr style=\"text-align: right;\">\n",
       "      <th></th>\n",
       "      <th>File ID</th>\n",
       "      <th>File Name</th>\n",
       "      <th>Data Category</th>\n",
       "      <th>Data Type</th>\n",
       "      <th>Project ID</th>\n",
       "      <th>Case ID</th>\n",
       "      <th>Sample ID</th>\n",
       "      <th>Sample Type</th>\n",
       "    </tr>\n",
       "  </thead>\n",
       "  <tbody>\n",
       "    <tr>\n",
       "      <th>0</th>\n",
       "      <td>dd68d3db-7da4-432a-ae28-e151b12b3b1f</td>\n",
       "      <td>a4beb0e4-f899-48f4-baf1-830039f9b345.rna_seq.a...</td>\n",
       "      <td>Transcriptome Profiling</td>\n",
       "      <td>Gene Expression Quantification</td>\n",
       "      <td>HCMI-CMDC</td>\n",
       "      <td>HCM-CSHL-0426-C18</td>\n",
       "      <td>HCM-CSHL-0426-C18-85A</td>\n",
       "      <td>Next Generation Cancer Model</td>\n",
       "    </tr>\n",
       "    <tr>\n",
       "      <th>1</th>\n",
       "      <td>62f7b30e-9b6b-477c-97e4-808d434f6232</td>\n",
       "      <td>dcdbbc06-9b06-4bb2-bfeb-d106ec7637e9.rna_seq.a...</td>\n",
       "      <td>Transcriptome Profiling</td>\n",
       "      <td>Gene Expression Quantification</td>\n",
       "      <td>HCMI-CMDC</td>\n",
       "      <td>HCM-CSHL-0257-C18</td>\n",
       "      <td>HCM-CSHL-0257-C18-85A</td>\n",
       "      <td>Next Generation Cancer Model</td>\n",
       "    </tr>\n",
       "    <tr>\n",
       "      <th>2</th>\n",
       "      <td>10e6418e-177b-401a-aef6-6027e93cc578</td>\n",
       "      <td>4395d11f-c399-4755-8cc1-bd43bd5a8e29.rna_seq.a...</td>\n",
       "      <td>Transcriptome Profiling</td>\n",
       "      <td>Gene Expression Quantification</td>\n",
       "      <td>HCMI-CMDC</td>\n",
       "      <td>HCM-CSHL-0141-C18</td>\n",
       "      <td>HCM-CSHL-0141-C18-85A</td>\n",
       "      <td>Next Generation Cancer Model</td>\n",
       "    </tr>\n",
       "    <tr>\n",
       "      <th>3</th>\n",
       "      <td>0f68cfdc-4abc-486b-938d-a7bea44b5c6c</td>\n",
       "      <td>986d87d1-0f27-4833-8be7-31678e0255b5.rna_seq.a...</td>\n",
       "      <td>Transcriptome Profiling</td>\n",
       "      <td>Gene Expression Quantification</td>\n",
       "      <td>HCMI-CMDC</td>\n",
       "      <td>HCM-CSHL-0141-C18</td>\n",
       "      <td>HCM-CSHL-0141-C18-01A</td>\n",
       "      <td>Primary Tumor</td>\n",
       "    </tr>\n",
       "    <tr>\n",
       "      <th>4</th>\n",
       "      <td>fbfcb42c-bf3b-4b4e-95f9-a4f171593c2e</td>\n",
       "      <td>21cc2b8f-d7bd-4502-a05a-76c589edc824.rna_seq.a...</td>\n",
       "      <td>Transcriptome Profiling</td>\n",
       "      <td>Gene Expression Quantification</td>\n",
       "      <td>HCMI-CMDC</td>\n",
       "      <td>HCM-CSHL-0060-C18</td>\n",
       "      <td>HCM-CSHL-0060-C18-85A</td>\n",
       "      <td>Next Generation Cancer Model</td>\n",
       "    </tr>\n",
       "    <tr>\n",
       "      <th>5</th>\n",
       "      <td>a7629665-cecb-46cd-acc7-a4fecee2ee5c</td>\n",
       "      <td>8dc28bdf-57a2-4da4-9da8-db322cc77825.rna_seq.a...</td>\n",
       "      <td>Transcriptome Profiling</td>\n",
       "      <td>Gene Expression Quantification</td>\n",
       "      <td>HCMI-CMDC</td>\n",
       "      <td>HCM-CSHL-0060-C18</td>\n",
       "      <td>HCM-CSHL-0060-C18-01B</td>\n",
       "      <td>Primary Tumor</td>\n",
       "    </tr>\n",
       "  </tbody>\n",
       "</table>\n",
       "</div>"
      ],
      "text/plain": [
       "                                File ID  \\\n",
       "0  dd68d3db-7da4-432a-ae28-e151b12b3b1f   \n",
       "1  62f7b30e-9b6b-477c-97e4-808d434f6232   \n",
       "2  10e6418e-177b-401a-aef6-6027e93cc578   \n",
       "3  0f68cfdc-4abc-486b-938d-a7bea44b5c6c   \n",
       "4  fbfcb42c-bf3b-4b4e-95f9-a4f171593c2e   \n",
       "5  a7629665-cecb-46cd-acc7-a4fecee2ee5c   \n",
       "\n",
       "                                           File Name            Data Category  \\\n",
       "0  a4beb0e4-f899-48f4-baf1-830039f9b345.rna_seq.a...  Transcriptome Profiling   \n",
       "1  dcdbbc06-9b06-4bb2-bfeb-d106ec7637e9.rna_seq.a...  Transcriptome Profiling   \n",
       "2  4395d11f-c399-4755-8cc1-bd43bd5a8e29.rna_seq.a...  Transcriptome Profiling   \n",
       "3  986d87d1-0f27-4833-8be7-31678e0255b5.rna_seq.a...  Transcriptome Profiling   \n",
       "4  21cc2b8f-d7bd-4502-a05a-76c589edc824.rna_seq.a...  Transcriptome Profiling   \n",
       "5  8dc28bdf-57a2-4da4-9da8-db322cc77825.rna_seq.a...  Transcriptome Profiling   \n",
       "\n",
       "                        Data Type Project ID            Case ID  \\\n",
       "0  Gene Expression Quantification  HCMI-CMDC  HCM-CSHL-0426-C18   \n",
       "1  Gene Expression Quantification  HCMI-CMDC  HCM-CSHL-0257-C18   \n",
       "2  Gene Expression Quantification  HCMI-CMDC  HCM-CSHL-0141-C18   \n",
       "3  Gene Expression Quantification  HCMI-CMDC  HCM-CSHL-0141-C18   \n",
       "4  Gene Expression Quantification  HCMI-CMDC  HCM-CSHL-0060-C18   \n",
       "5  Gene Expression Quantification  HCMI-CMDC  HCM-CSHL-0060-C18   \n",
       "\n",
       "               Sample ID                   Sample Type  \n",
       "0  HCM-CSHL-0426-C18-85A  Next Generation Cancer Model  \n",
       "1  HCM-CSHL-0257-C18-85A  Next Generation Cancer Model  \n",
       "2  HCM-CSHL-0141-C18-85A  Next Generation Cancer Model  \n",
       "3  HCM-CSHL-0141-C18-01A                 Primary Tumor  \n",
       "4  HCM-CSHL-0060-C18-85A  Next Generation Cancer Model  \n",
       "5  HCM-CSHL-0060-C18-01B                 Primary Tumor  "
      ]
     },
     "execution_count": 40,
     "metadata": {},
     "output_type": "execute_result"
    }
   ],
   "source": [
    "csv = pd.read_csv(\"sample_sheet.tsv\", sep=\"\\t\")\n",
    "csv"
   ]
  },
  {
   "cell_type": "code",
   "execution_count": 41,
   "metadata": {},
   "outputs": [
    {
     "data": {
      "text/plain": [
       "3    0f68cfdc-4abc-486b-938d-a7bea44b5c6c\n",
       "5    a7629665-cecb-46cd-acc7-a4fecee2ee5c\n",
       "Name: File ID, dtype: object"
      ]
     },
     "execution_count": 41,
     "metadata": {},
     "output_type": "execute_result"
    }
   ],
   "source": [
    "cancer = csv.loc[csv['Sample Type'] == \"Primary Tumor\", \"File ID\"]\n",
    "cancer"
   ]
  },
  {
   "cell_type": "code",
   "execution_count": 42,
   "metadata": {},
   "outputs": [
    {
     "data": {
      "text/plain": [
       "0    dd68d3db-7da4-432a-ae28-e151b12b3b1f\n",
       "1    62f7b30e-9b6b-477c-97e4-808d434f6232\n",
       "2    10e6418e-177b-401a-aef6-6027e93cc578\n",
       "4    fbfcb42c-bf3b-4b4e-95f9-a4f171593c2e\n",
       "Name: File ID, dtype: object"
      ]
     },
     "execution_count": 42,
     "metadata": {},
     "output_type": "execute_result"
    }
   ],
   "source": [
    "cancer_2 = csv.loc[csv['Sample Type'] == \"Next Generation Cancer Model\", \"File ID\"]\n",
    "cancer_2"
   ]
  },
  {
   "cell_type": "code",
   "execution_count": 35,
   "metadata": {},
   "outputs": [
    {
     "data": {
      "text/plain": [
       "3    e15ea1ca-b6b4-4bee-b322-9f7d2fe1e008\n",
       "Name: File ID, dtype: object"
      ]
     },
     "execution_count": 35,
     "metadata": {},
     "output_type": "execute_result"
    }
   ],
   "source": [
    "metastatic = csv.loc[csv['Sample Type'] == \"FFPE Scrolls\", \"File ID\"]\n",
    "metastatic"
   ]
  },
  {
   "cell_type": "code",
   "execution_count": 43,
   "metadata": {},
   "outputs": [
    {
     "data": {
      "text/plain": [
       "3    0f68cfdc-4abc-486b-938d-a7bea44b5c6c\n",
       "5    a7629665-cecb-46cd-acc7-a4fecee2ee5c\n",
       "0    dd68d3db-7da4-432a-ae28-e151b12b3b1f\n",
       "1    62f7b30e-9b6b-477c-97e4-808d434f6232\n",
       "2    10e6418e-177b-401a-aef6-6027e93cc578\n",
       "4    fbfcb42c-bf3b-4b4e-95f9-a4f171593c2e\n",
       "Name: File ID, dtype: object"
      ]
     },
     "execution_count": 43,
     "metadata": {},
     "output_type": "execute_result"
    }
   ],
   "source": [
    "samples = pd.concat([cancer, cancer_2])\n",
    "samples"
   ]
  },
  {
   "cell_type": "code",
   "execution_count": 44,
   "metadata": {},
   "outputs": [],
   "source": [
    "os.chdir(\"/Users/lebohangmashatola/downloads/folfox_s_2/\")\n",
    "for x in samples:\n",
    "    os.system(\"mv \" + x + \" /Users/lebohangmashatola/downloads/folfox_s/S\")"
   ]
  },
  {
   "cell_type": "code",
   "execution_count": null,
   "metadata": {},
   "outputs": [],
   "source": [
    "os.chdir(\"/Volumes/Z_Bio/TCGA_COAD/thyroid_cancer/samples\")\n",
    "for x in cancer:\n",
    "    os.system(\"mv \" + x + \" /Volumes/Z_Bio/TCGA_COAD/thyroid_cancer/C/\")"
   ]
  }
 ],
 "metadata": {
  "kernelspec": {
   "display_name": "Python 3 (ipykernel)",
   "language": "python",
   "name": "python3"
  },
  "language_info": {
   "codemirror_mode": {
    "name": "ipython",
    "version": 3
   },
   "file_extension": ".py",
   "mimetype": "text/x-python",
   "name": "python",
   "nbconvert_exporter": "python",
   "pygments_lexer": "ipython3",
   "version": "3.9.11"
  },
  "vscode": {
   "interpreter": {
    "hash": "187439453ee029e3684de830b23091a8c2fe43151a60dd38184d469002caa5bb"
   }
  }
 },
 "nbformat": 4,
 "nbformat_minor": 4
}
