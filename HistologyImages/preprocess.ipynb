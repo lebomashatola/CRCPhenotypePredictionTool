{
 "cells": [
  {
   "cell_type": "code",
   "execution_count": 6,
   "id": "c018a097-7637-400d-992e-46917ab18b86",
   "metadata": {},
   "outputs": [],
   "source": [
    "import os "
   ]
  },
  {
   "cell_type": "code",
   "execution_count": 7,
   "id": "b00e477a-cdd9-4232-8637-0516c8c1aa65",
   "metadata": {},
   "outputs": [],
   "source": [
    "#preprocess('/Users/lebomash/Downloads/CRCPhenotypePredictionTool-main/histologyimages/images')"
   ]
  },
  {
   "cell_type": "code",
   "execution_count": 8,
   "id": "cac98ed9-e13e-4c56-9589-8dc1a9a49d75",
   "metadata": {},
   "outputs": [],
   "source": [
    "def segmentation(inputP, stage):\n",
    "        \n",
    "    directory = '/Users/lebomash/downloads/CRCPhenotypePredictionTool-main/pyhist/' + inputP\n",
    "    \n",
    "    for file in os.listdir(directory):\n",
    "        \n",
    "        filename = os.fsdecode(file)\n",
    "        read_data = directory + '/' + filename\n",
    "        \n",
    "        try:\n",
    "            files = os.listdir(read_data)\n",
    "            \n",
    "        except:\n",
    "            continue\n",
    "        \n",
    "        for i in files:\n",
    "            \n",
    "            if i.endswith(\".svs\"):\n",
    "                \n",
    "                image_in = '/Users/lebomash/downloads/CRCPhenotypePredictionTool-main/pyhist/' +  inputP + '/' + file  + '/' + i\n",
    "                \n",
    "                os.system('python3 /Users/lebomash/downloads/CRCPhenotypePredictionTool-main/pyhist/pyhist.py --method \"graph\" --patch-size 1024 --output-downsample 128 --content-threshold 0.8 --k-const 1024 --save-patches --save-tilecrossed-image --output ' + stage + '/' + ' ' + image_in)\n",
    "                os.system('python3 /Users/lebomash/downloads/CRCPhenotypePredictionTool-main/pyhist/pyhist.py --method \"graphtestmode\" --patch-size 1024 --test-downsample 128 --output ' + stage + '/' + ' ' + image_in)"
   ]
  },
  {
   "cell_type": "code",
   "execution_count": 9,
   "id": "a0f1bbf3-5cb0-4ff3-b79d-6ccab5f39161",
   "metadata": {},
   "outputs": [
    {
     "name": "stderr",
     "output_type": "stream",
     "text": [
      "/Library/Frameworks/Python.framework/Versions/3.9/bin/python3: can't open file '/Users/lebomash/Downloads/pyhist/pyhist.py': [Errno 2] No such file or directory\n",
      "/Library/Frameworks/Python.framework/Versions/3.9/bin/python3: can't open file '/Users/lebomash/Downloads/pyhist/pyhist.py': [Errno 2] No such file or directory\n",
      "/Library/Frameworks/Python.framework/Versions/3.9/bin/python3: can't open file '/Users/lebomash/Downloads/pyhist/pyhist.py': [Errno 2] No such file or directory\n",
      "/Library/Frameworks/Python.framework/Versions/3.9/bin/python3: can't open file '/Users/lebomash/Downloads/pyhist/pyhist.py': [Errno 2] No such file or directory\n"
     ]
    }
   ],
   "source": [
    "segmentation('stg1', 'stg1out')"
   ]
  },
  {
   "cell_type": "code",
   "execution_count": null,
   "id": "25e89da6-9413-45c1-ab83-d676f86a448f",
   "metadata": {},
   "outputs": [],
   "source": []
  }
 ],
 "metadata": {
  "kernelspec": {
   "display_name": "Python 3 (ipykernel)",
   "language": "python",
   "name": "python3"
  },
  "language_info": {
   "codemirror_mode": {
    "name": "ipython",
    "version": 3
   },
   "file_extension": ".py",
   "mimetype": "text/x-python",
   "name": "python",
   "nbconvert_exporter": "python",
   "pygments_lexer": "ipython3",
   "version": "3.9.10"
  }
 },
 "nbformat": 4,
 "nbformat_minor": 5
}
