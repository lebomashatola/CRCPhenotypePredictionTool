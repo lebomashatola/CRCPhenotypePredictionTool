{
 "cells": [
  {
   "cell_type": "code",
   "execution_count": 1,
   "id": "a0e0b085-4eff-42dc-bf8d-17594a2917af",
   "metadata": {},
   "outputs": [],
   "source": [
    "import os\n",
    "import gudhi\n",
    "import math\n",
    "import dcor\n",
    "import numpy as np\n",
    "import pandas as pd\n",
    "from gudhi import RipsComplex\n",
    "from sklearn import preprocessing\n",
    "from sklearn.pipeline import Pipeline\n",
    "from scipy.stats import pearsonr\n",
    "from gudhi.representations import Landscape, PersistenceImage\n",
    "from sklearn.neural_network import MLPClassifier\n",
    "from sklearn.model_selection import train_test_split\n",
    "\n",
    "from sklearn.preprocessing import quantile_transform\n",
    "from sklearn.metrics import accuracy_score, f1_score, precision_score, recall_score\n",
    "from sklearn.feature_selection import SelectKBest, chi2\n",
    "from sklearn.neural_network import MLPClassifier\n",
    "from sklearn.ensemble import RandomForestClassifier\n"
   ]
  },
  {
   "cell_type": "code",
   "execution_count": 2,
   "id": "35ca623f-df49-4d1d-a7b4-c6112d0988c3",
   "metadata": {},
   "outputs": [],
   "source": [
    "#READ GENE EXPRESSION MATRICES AS PICKLE FILES"
   ]
  },
  {
   "cell_type": "code",
   "execution_count": 3,
   "id": "b8694157-19d6-4617-929c-b98e53a20f0c",
   "metadata": {},
   "outputs": [],
   "source": [
    "def read_files_create_dataframe(path, ref):\n",
    "    \n",
    "    labelencoding = preprocessing.LabelEncoder()\n",
    "    \n",
    "    file_directory = '/Users/lebohangmashatola/Downloads/CRCPhenotypePredictionTool-main/expression/' + path\n",
    "    df = pd.read_csv(file_directory, sep=',', index_col=0)\n",
    "    df.columns = [ref] * df.shape[1]\n",
    "    \n",
    "    df = df.T\n",
    "    df = df.drop(columns=np.nan)\n",
    "    \n",
    "    df_quant = quantile_transform(df, n_quantiles=df.shape[0])\n",
    "    df_quant = pd.DataFrame(df_quant)\n",
    "    df_quant.columns = df.columns\n",
    "    df_quant.index = df.index\n",
    "    \n",
    "    return(df)"
   ]
  },
  {
   "cell_type": "code",
   "execution_count": 4,
   "id": "a0566bca-a385-48cc-ae20-2b28bbd1a924",
   "metadata": {},
   "outputs": [],
   "source": [
    "GSE19860_R = read_files_create_dataframe('GSE19860_RESISTANT_FOLFOX.csv', 'r')\n",
    "GSE19860_S = read_files_create_dataframe('GSE19860_SENSITIVE_FOLFOX.csv', 's')\n",
    "\n",
    "GSE28702_R = read_files_create_dataframe('GSE28702_RESISTANT_FOLFOX.csv', 'r')\n",
    "GSE28702_S = read_files_create_dataframe('GSE28702_SENSITIVE_FOLFOX.csv', 's')\n",
    "\n",
    "GSE52735_R = read_files_create_dataframe('GSE52735_RESISTANT_FOLFOX.csv', 'r')\n",
    "GSE52735_S = read_files_create_dataframe('GSE52735_SENSITIVE_FOLFOX.csv', 's')\n",
    "\n",
    "GSE69657_R = read_files_create_dataframe('GSE69657_RESISTANT_FOLFOX.csv', 'r')\n",
    "GSE69657_S = read_files_create_dataframe('GSE69657_SENSITIVE_FOLFOX.csv', 's')\n",
    "\n",
    "GSE72968_R = read_files_create_dataframe('GSE72968_RESISTANT_FOLFOX.csv', 'r')\n",
    "GSE72968_S = read_files_create_dataframe('GSE72968_SENSITIVE_FOLFOX.csv', 's')"
   ]
  },
  {
   "cell_type": "code",
   "execution_count": 5,
   "id": "a19cc96d-0190-47be-bc0f-753c295e32e3",
   "metadata": {},
   "outputs": [],
   "source": [
    "array_r = pd.concat([GSE19860_R, GSE28702_R, GSE52735_R, GSE69657_R, GSE72968_R], axis=0)\n",
    "array_s = pd.concat([GSE19860_S, GSE28702_S, GSE52735_S, GSE69657_S, GSE72968_S], axis=0)\n",
    "#array = quantile_transform(array, n_quantiles=10, random_state=0, copy=True)"
   ]
  },
  {
   "cell_type": "code",
   "execution_count": 6,
   "id": "6f04daa2-ac41-4660-8ac0-dc3bf551e32d",
   "metadata": {},
   "outputs": [],
   "source": [
    "GSE81653_R = read_files_create_dataframe('GSE81653_FOLFOX_RESISTANT.csv', 'r')\n",
    "GSE81653_S = read_files_create_dataframe('GSE81653_FOLFOX_SENSITIVE.csv', 's')"
   ]
  },
  {
   "cell_type": "code",
   "execution_count": 7,
   "id": "95152fa1-1b00-46ac-85bb-7c98d33f1ba0",
   "metadata": {},
   "outputs": [],
   "source": [
    "def read_files_rna_dataframe(path, ref):\n",
    "    \n",
    "    labelencoding = preprocessing.LabelEncoder()\n",
    "    \n",
    "    file_directory = '/Users/lebohangmashatola/Downloads/CRCPhenotypePredictionTool-main/expression/' + path\n",
    "    df = pd.read_csv(file_directory, sep=',', index_col=0)\n",
    "    \n",
    "    df.index = [ref] * df.shape[0]\n",
    "    \n",
    "    return(df)"
   ]
  },
  {
   "cell_type": "code",
   "execution_count": 8,
   "id": "364b6b80-3f34-46d3-a2a3-0f56e1101996",
   "metadata": {},
   "outputs": [],
   "source": [
    "rna_r = read_files_rna_dataframe('rnaseq_folfox_r.csv', 'r')\n",
    "rna_s = read_files_rna_dataframe('rnaseq_folfox_s.csv', 's')"
   ]
  },
  {
   "cell_type": "code",
   "execution_count": 9,
   "id": "5851c3aa-0d69-46b3-ba0c-9b325278eafa",
   "metadata": {},
   "outputs": [],
   "source": [
    "def train_test(case, control):\n",
    "    \n",
    "    labelencoding = preprocessing.LabelEncoder()\n",
    "    gene_exprs_matrix = pd.concat([case, control], axis=0)\n",
    "    labs = labelencoding.fit_transform(gene_exprs_matrix.index.to_list())\n",
    "    \n",
    "    X_new = SelectKBest(chi2, k=300).fit_transform(gene_exprs_matrix, labs)\n",
    "    X_new = pd.DataFrame(X_new)\n",
    "    \n",
    "    X_new.index = gene_exprs_matrix.index\n",
    "    \n",
    "    train, test = train_test_split(X_new, test_size=0.3, train_size=0.7, random_state=0, shuffle=True)\n",
    "            \n",
    "    train_labs = labelencoding.fit_transform(train.index.to_list())\n",
    "    test_labs = labelencoding.fit_transform(test.index.to_list())\n",
    "    \n",
    "    return (np.array(train), np.array(test), train_labs, test_labs)"
   ]
  },
  {
   "cell_type": "code",
   "execution_count": 10,
   "id": "bd1b72ee-c4b3-4314-8939-abd3563f6c6f",
   "metadata": {},
   "outputs": [],
   "source": [
    "GSE81653_train, GSE81653_test, GSE81653_train_labs, GSE81653_test_labs = train_test(GSE81653_R, GSE81653_S)"
   ]
  },
  {
   "cell_type": "code",
   "execution_count": 11,
   "id": "57344efa-683a-4bfe-8884-4cf3a139c1af",
   "metadata": {},
   "outputs": [],
   "source": [
    "array_train, array_test, array_train_labs, array_test_labs = train_test(array_r, array_s)"
   ]
  },
  {
   "cell_type": "code",
   "execution_count": 12,
   "id": "2c1e375c-8ab8-4d2e-8aa0-e2733de82c81",
   "metadata": {},
   "outputs": [],
   "source": [
    "rnaseq_train, rnaseq_test, rnaseq_train_labs, rnaseq_test_labs = train_test(rna_r, rna_s)"
   ]
  },
  {
   "cell_type": "code",
   "execution_count": 13,
   "id": "ba4091b7-e3e2-475f-abe9-d4f4d18d3c19",
   "metadata": {},
   "outputs": [],
   "source": [
    "def intergene_correlation_measure(DF):\n",
    "    \n",
    "    num_genes = DF.shape[1]\n",
    "    corr = np.zeros((num_genes, num_genes))\n",
    "    \n",
    "    for i in range(num_genes):\n",
    "        for j in range(i+1, num_genes):\n",
    "            \n",
    "            corr_, _ = pearsonr(DF[:,i], DF[:,j]) # Pearson Correlation Coefficient\n",
    "            corr[i,j] = corr_\n",
    "    \n",
    "    corr = corr + corr.T + np.eye(num_genes)\n",
    "    \n",
    "    return corr ** 7"
   ]
  },
  {
   "cell_type": "code",
   "execution_count": 14,
   "id": "3a3e9990-3e03-4e03-907c-23562a8c57f3",
   "metadata": {},
   "outputs": [],
   "source": [
    "M_GSE81653 = intergene_correlation_measure(GSE81653_train)"
   ]
  },
  {
   "cell_type": "code",
   "execution_count": 15,
   "id": "19d4048f-fcd6-4e9b-912a-91f6594b3393",
   "metadata": {},
   "outputs": [],
   "source": [
    "M_array = intergene_correlation_measure(array_train)"
   ]
  },
  {
   "cell_type": "code",
   "execution_count": 16,
   "id": "5d671b0d-25a9-40ef-a549-d3e015e75519",
   "metadata": {},
   "outputs": [],
   "source": [
    "M_rna = intergene_correlation_measure(rnaseq_train)"
   ]
  },
  {
   "cell_type": "code",
   "execution_count": 17,
   "id": "d6b6e743-c88c-4889-8a75-803e8b1dff42",
   "metadata": {},
   "outputs": [],
   "source": [
    "def dissTOM(A):\n",
    "    \n",
    "    np.fill_diagonal(A, 0)\n",
    "    A_tom = np.zeros_like(A)\n",
    "    \n",
    "    L = np.matmul(A,A)\n",
    "    ki = A.sum(axis=1)\n",
    "    kj = A.sum(axis=0)\n",
    "    \n",
    "    MINK = np.array([ np.minimum(ki_,kj) for ki_ in ki ])\n",
    "    A_tom = (L+A) / (MINK + 1 - A)\n",
    "    \n",
    "    np.fill_diagonal(A_tom,1)\n",
    "    \n",
    "    return A_tom"
   ]
  },
  {
   "cell_type": "code",
   "execution_count": 18,
   "id": "04a08f46-20cf-481a-af97-85d9361b29c0",
   "metadata": {},
   "outputs": [],
   "source": [
    "diss_GSE81653 = dissTOM(M_GSE81653)"
   ]
  },
  {
   "cell_type": "code",
   "execution_count": 19,
   "id": "7776c54e-c762-4dd7-b31d-a4b33ac9e0b6",
   "metadata": {},
   "outputs": [],
   "source": [
    "diss_M_array = dissTOM(M_array)"
   ]
  },
  {
   "cell_type": "code",
   "execution_count": 20,
   "id": "1539c290-5af7-4b3b-9a6b-1b80a13f436e",
   "metadata": {},
   "outputs": [],
   "source": [
    "diss_rnaseq = dissTOM(M_rna)"
   ]
  },
  {
   "cell_type": "code",
   "execution_count": 21,
   "id": "a0471137-e5fe-4354-b4eb-e6383142f753",
   "metadata": {},
   "outputs": [],
   "source": [
    "#Distance Correlations Matrix"
   ]
  },
  {
   "cell_type": "code",
   "execution_count": 22,
   "id": "c7358ea8-bbd9-4c87-b84e-cc1f4d2e96ae",
   "metadata": {},
   "outputs": [],
   "source": [
    "def patient_correlation_measure(F, M):\n",
    "    \n",
    "    num_genes = M.shape[1]\n",
    "    dist = np.zeros((num_genes, num_genes))\n",
    "    \n",
    "    for i in range(num_genes):\n",
    "        for j in range(i+1, num_genes):\n",
    "            \n",
    "            dist[i,j] = M[i,j] + 2*F[i]\n",
    "            \n",
    "            #b = abs((F[i]**2 - F[j]**2) / M[i,j])\n",
    "            #dist[i,j] = math.sqrt(M[i,j]**2 + b**2 + 2*F[i]**2 + 2*F[j]**2)/2 #weighting algorithm derived from Mandal et al., 2020\n",
    "            \n",
    "    \n",
    "    dist = dist + dist.T + np.eye(num_genes)\n",
    "    \n",
    "    return dist"
   ]
  },
  {
   "cell_type": "code",
   "execution_count": 23,
   "id": "c11fa64d-8326-49c6-8bfc-104a06de4a67",
   "metadata": {},
   "outputs": [],
   "source": [
    "def simplicial_patient(X, M):\n",
    "    \n",
    "    Persistent_diagrams0, Persistent_diagrams1 = [], []\n",
    "    \n",
    "    for s in X:\n",
    "        \n",
    "        distance_matrix = patient_correlation_measure(s, M)\n",
    "        rips_complex = RipsComplex(distance_matrix, max_edge_length = float('Inf')).create_simplex_tree(max_dimension=1) #Weights used include per-patient gene expressions\n",
    "        \n",
    "        rips_complex.collapse_edges()\n",
    "        rips_complex.expansion(2)\n",
    "        rips_complex.persistence()\n",
    "    \n",
    "        Persistent_diagrams0.append(rips_complex.persistence_intervals_in_dimension(0))\n",
    "        Persistent_diagrams1.append(rips_complex.persistence_intervals_in_dimension(1))\n",
    "    \n",
    "    remove_infinity = lambda barcode : np.array([bars for bars in barcode if bars[1]!= np.inf])\n",
    "    \n",
    "    Persistent_diagrams0 = list(map(remove_infinity, Persistent_diagrams0))\n",
    "    Persistent_diagrams1 = list(map(remove_infinity, Persistent_diagrams1))\n",
    "    \n",
    "    landscape = gudhi.representations.Landscape(num_landscapes=3)\n",
    "    samplelandscape0 = landscape.fit_transform(Persistent_diagrams0)\n",
    "    samplelandscape1 = landscape.fit_transform(Persistent_diagrams1)\n",
    "    \n",
    "    image = PersistenceImage(resolution=[5, 5])\n",
    "    samplelandscape0img = image.fit_transform(Persistent_diagrams0)\n",
    "    samplelandscape1img = image.fit_transform(Persistent_diagrams1)\n",
    "        \n",
    "        \n",
    "    return np.column_stack((samplelandscape0, samplelandscape1)), np.column_stack((samplelandscape0img, samplelandscape1img))"
   ]
  },
  {
   "cell_type": "code",
   "execution_count": 24,
   "id": "8df5752c-484e-42ed-bf5a-f915fe9b5550",
   "metadata": {},
   "outputs": [],
   "source": [
    "GSE81653_landscape, GSE81653_image = simplicial_patient(GSE81653_train, diss_GSE81653)\n",
    "GSE81653_landscape_test, GSE81653_image_test = simplicial_patient(GSE81653_test, diss_GSE81653)"
   ]
  },
  {
   "cell_type": "code",
   "execution_count": 25,
   "id": "b92ac4a0-e614-4ea1-b819-85f36a0f6d5f",
   "metadata": {},
   "outputs": [],
   "source": [
    "array_landscape, array_image = simplicial_patient(array_train, diss_M_array)\n",
    "array_landscape_test, array_image_test = simplicial_patient(array_test, diss_M_array)"
   ]
  },
  {
   "cell_type": "code",
   "execution_count": 26,
   "id": "42ab538d-7076-4f72-956b-012e2d6d328c",
   "metadata": {},
   "outputs": [],
   "source": [
    "rna_landscape, rna_image = simplicial_patient(rnaseq_train, diss_rnaseq)\n",
    "rna_landscape_test, rna_image_test = simplicial_patient(rnaseq_test, diss_rnaseq)"
   ]
  },
  {
   "cell_type": "code",
   "execution_count": 27,
   "id": "326d1d2b-fe88-4c1f-bb7c-74061cc9649a",
   "metadata": {},
   "outputs": [],
   "source": [
    "#Convoluted Neural Network "
   ]
  },
  {
   "cell_type": "code",
   "execution_count": 28,
   "id": "ea947559-a43b-457e-ace6-5729ede0c6f3",
   "metadata": {},
   "outputs": [],
   "source": [
    "from keras.layers import Activation, Dropout, Flatten, Dense\n",
    "from keras.layers import Conv1D, MaxPooling1D\n",
    "import matplotlib.pyplot as plt\n",
    "from tensorflow.keras import layers\n",
    "from keras.models import Sequential\n",
    "from tensorflow import keras\n",
    "import tensorflow as tf\n",
    "from tensorflow.keras.optimizers import SGD\n",
    "from keras import backend as K"
   ]
  },
  {
   "cell_type": "code",
   "execution_count": 29,
   "id": "3ceac69b-2734-4b24-9980-cf0fc487360f",
   "metadata": {},
   "outputs": [],
   "source": [
    "def convoluted(X_train, X_test, y_train, y_test):\n",
    "    \n",
    "    from keras import backend as K\n",
    "    \n",
    "    def recall_m(y_true, y_pred):\n",
    "        true_positives = K.sum(K.round(K.clip(y_true * y_pred, 0, 1)))\n",
    "        possible_positives = K.sum(K.round(K.clip(y_true, 0, 1)))\n",
    "        recall = true_positives / (possible_positives + K.epsilon())\n",
    "        \n",
    "        return recall\n",
    "\n",
    "    def precision_m(y_true, y_pred):\n",
    "        true_positives = K.sum(K.round(K.clip(y_true * y_pred, 0, 1)))\n",
    "        predicted_positives = K.sum(K.round(K.clip(y_pred, 0, 1)))\n",
    "        precision = true_positives / (predicted_positives + K.epsilon())\n",
    "        \n",
    "        return precision\n",
    "\n",
    "    def f1_m(y_true, y_pred):\n",
    "        precision = precision_m(y_true, y_pred)\n",
    "        recall = recall_m(y_true, y_pred)\n",
    "        \n",
    "        return 2*((precision*recall)/(precision+recall+K.epsilon()))\n",
    "        \n",
    "    X_train = np.expand_dims(X_train, axis=2).astype('float32')\n",
    "    X_test = np.expand_dims(X_test, axis=2).astype('float32')\n",
    "    \n",
    "    model = Sequential()\n",
    "\n",
    "    model.add(Conv1D(filters=1024, kernel_size=2, activation='relu', input_shape=(X_train.shape[1], X_train.shape[2])))\n",
    "    model.add(Conv1D(filters=128, kernel_size=2, activation='relu'))\n",
    "    model.add(Conv1D(filters=16, kernel_size=2, activation='relu'))\n",
    "    model.add(Dropout(0.5))\n",
    "    \n",
    "    model.add(MaxPooling1D(pool_size=2))\n",
    "    model.add(Flatten())\n",
    "    \n",
    "    model.add(Dense(8, activation='relu'))\n",
    "    model.add(Dense(1, activation='relu'))\n",
    "    \n",
    "    \n",
    "    model.compile(loss='binary_crossentropy', optimizer='adam', metrics=['accuracy',f1_m,precision_m, recall_m])\n",
    "    #keras.utils.plot_model(model, \"multi_input_and_output_model.png\", show_shapes=True)\n",
    "    \n",
    "    history = model.fit(X_train, y_train, epochs = 30, shuffle=True, verbose=0)\n",
    "    loss, accuracy, f1_score, precision, recall = model.evaluate(X_test, y_test, verbose=0)\n",
    "    \n",
    "    scores = np.array([f1_score*100, recall*100, precision*100, accuracy*100])\n",
    "    \n",
    "    return scores\n",
    "    "
   ]
  },
  {
   "cell_type": "code",
   "execution_count": 30,
   "id": "82aa0a15-9689-4aa3-9db6-643eef1925d7",
   "metadata": {},
   "outputs": [
    {
     "name": "stderr",
     "output_type": "stream",
     "text": [
      "2022-11-26 00:01:37.592644: I tensorflow/core/platform/cpu_feature_guard.cc:151] This TensorFlow binary is optimized with oneAPI Deep Neural Network Library (oneDNN) to use the following CPU instructions in performance-critical operations:  AVX2 AVX512F FMA\n",
      "To enable them in other operations, rebuild TensorFlow with the appropriate compiler flags.\n"
     ]
    }
   ],
   "source": [
    "gse_Lcnn = convoluted(GSE81653_landscape, GSE81653_landscape_test, GSE81653_train_labs, GSE81653_test_labs)"
   ]
  },
  {
   "cell_type": "code",
   "execution_count": 31,
   "id": "496c8d15-9a9a-416d-98c2-ee97028ccc84",
   "metadata": {},
   "outputs": [],
   "source": [
    "gse_Icnn = convoluted(GSE81653_image, GSE81653_image_test, GSE81653_train_labs, GSE81653_test_labs)"
   ]
  },
  {
   "cell_type": "code",
   "execution_count": 32,
   "id": "382f3376-a71c-406f-b210-d0718774b34c",
   "metadata": {},
   "outputs": [],
   "source": [
    "arr_Lcnn = convoluted(array_landscape, array_landscape_test, array_train_labs, array_test_labs)"
   ]
  },
  {
   "cell_type": "code",
   "execution_count": 33,
   "id": "e6c9302f-2336-4f52-8f4a-20dbc2ba6ae7",
   "metadata": {},
   "outputs": [],
   "source": [
    "arr_Icnn = convoluted(array_image, array_image_test, array_train_labs, array_test_labs)"
   ]
  },
  {
   "cell_type": "code",
   "execution_count": 34,
   "id": "3dc901c7-90e2-4e73-bf36-f1c61f06ab13",
   "metadata": {},
   "outputs": [],
   "source": [
    "rna_Lcnn = convoluted(rna_landscape, rna_landscape_test, rnaseq_train_labs, rnaseq_test_labs)"
   ]
  },
  {
   "cell_type": "code",
   "execution_count": 35,
   "id": "5996455a-2eda-44ab-8d10-939c8ad6ba26",
   "metadata": {},
   "outputs": [
    {
     "name": "stdout",
     "output_type": "stream",
     "text": [
      "WARNING:tensorflow:5 out of the last 14 calls to <function Model.make_test_function.<locals>.test_function at 0x7ff041de6dc0> triggered tf.function retracing. Tracing is expensive and the excessive number of tracings could be due to (1) creating @tf.function repeatedly in a loop, (2) passing tensors with different shapes, (3) passing Python objects instead of tensors. For (1), please define your @tf.function outside of the loop. For (2), @tf.function has experimental_relax_shapes=True option that relaxes argument shapes that can avoid unnecessary retracing. For (3), please refer to https://www.tensorflow.org/guide/function#controlling_retracing and https://www.tensorflow.org/api_docs/python/tf/function for  more details.\n"
     ]
    }
   ],
   "source": [
    "rna_Icnn = convoluted(rna_image, rna_image_test, rnaseq_train_labs, rnaseq_test_labs)"
   ]
  },
  {
   "cell_type": "code",
   "execution_count": 62,
   "id": "281313f0-0285-412e-93cb-37b58c48ef38",
   "metadata": {},
   "outputs": [
    {
     "data": {
      "text/plain": [
       "<AxesSubplot:>"
      ]
     },
     "execution_count": 62,
     "metadata": {},
     "output_type": "execute_result"
    },
    {
     "data": {
      "image/png": "[encoded data removed]",
      "text/plain": [
       "<Figure size 432x288 with 1 Axes>"
      ]
     },
     "metadata": {
      "image/png": {
       "height": 253,
       "width": 380
      }
     },
     "output_type": "display_data"
    }
   ],
   "source": [
    "all_metrics = np.stack([gse_Lcnn, arr_Lcnn, rna_Lcnn])\n",
    "\n",
    "c = pd.DataFrame(all_metrics,\n",
    "             index=['GSE81653Lcnn', 'ArrayLcnn', 'RNASeqLcnn'], \n",
    "             columns=['F1 Score Macro', 'Recall', 'Precision', 'Accuracy'])\n",
    "\n",
    "%config InlineBackend.figure_format = 'retina'\n",
    "import seaborn as sns\n",
    "sns.set(font_scale=1.2)\n",
    "color = ['orange','darkorange','lightgrey', 'grey']\n",
    "sns.barplot(data=c, capsize=0.15, errcolor=\"0\", errwidth=0.7, palette=color)"
   ]
  },
  {
   "cell_type": "code",
   "execution_count": 61,
   "id": "3bb08148-0237-4105-8075-2473a09baf2e",
   "metadata": {},
   "outputs": [
    {
     "data": {
      "text/plain": [
       "<AxesSubplot:>"
      ]
     },
     "execution_count": 61,
     "metadata": {},
     "output_type": "execute_result"
    },
    {
     "data": {
      "image/png": "[encoded data removed]",
      "text/plain": [
       "<Figure size 432x288 with 1 Axes>"
      ]
     },
     "metadata": {
      "image/png": {
       "height": 253,
       "width": 380
      }
     },
     "output_type": "display_data"
    }
   ],
   "source": [
    "all_metrics = np.stack([gse_Icnn, arr_Icnn, rna_Icnn])\n",
    "\n",
    "c = pd.DataFrame(all_metrics,\n",
    "             index=['GSE81653Icnn', 'ArrayIcnn', 'RNASeqIcnn'], \n",
    "             columns=['F1 Score Macro', 'Recall', 'Precision', 'Accuracy'])\n",
    "\n",
    "%config InlineBackend.figure_format = 'retina'\n",
    "import seaborn as sns\n",
    "sns.set(font_scale=1.2)\n",
    "color = ['orange','darkorange','lightgrey', 'grey']\n",
    "sns.barplot(data=c, capsize=0.15, errcolor=\"0\", errwidth=0.7, palette=color)"
   ]
  },
  {
   "cell_type": "code",
   "execution_count": 40,
   "id": "703014b5-7931-4b43-a10f-12bdd649b7a8",
   "metadata": {},
   "outputs": [],
   "source": [
    "def RFClass(X_train, X_test, y_train, y_test):\n",
    "    \n",
    "    from sklearn.ensemble import RandomForestClassifier\n",
    "    \n",
    "    clf = RandomForestClassifier(max_depth=100, random_state=0).fit(X_train, y_train)\n",
    "    y_pred = clf.predict(X_test)\n",
    "    \n",
    "    f1 = f1_score(y_test, y_pred, average=\"macro\")\n",
    "    pr = precision_score(y_test, y_pred, average=\"macro\")\n",
    "    re = recall_score(y_test, y_pred, average=\"macro\")\n",
    "    acc = accuracy_score(y_test, y_pred)\n",
    "    \n",
    "    scores = np.array([f1*100, re*100, pr*100, acc*100])\n",
    "    return scores"
   ]
  },
  {
   "cell_type": "code",
   "execution_count": 63,
   "id": "0342be25-9a03-4e80-bbf7-a540013ed830",
   "metadata": {},
   "outputs": [
    {
     "data": {
      "text/plain": [
       "<AxesSubplot:>"
      ]
     },
     "execution_count": 63,
     "metadata": {},
     "output_type": "execute_result"
    },
    {
     "data": {
      "image/png": "[encoded data removed]",
      "text/plain": [
       "<Figure size 432x288 with 1 Axes>"
      ]
     },
     "metadata": {
      "image/png": {
       "height": 253,
       "width": 373
      }
     },
     "output_type": "display_data"
    }
   ],
   "source": [
    "gse = RFClass(GSE81653_landscape, GSE81653_landscape_test, GSE81653_train_labs, GSE81653_test_labs)\n",
    "arr = RFClass(array_landscape, array_landscape_test, array_train_labs, array_test_labs)\n",
    "rna = RFClass(rna_landscape, rna_landscape_test, rnaseq_train_labs, rnaseq_test_labs)\n",
    "all_metrics = np.stack([gse, arr, rna])\n",
    "\n",
    "c = pd.DataFrame(all_metrics,\n",
    "             index=['GSE81653', 'Array', 'RNASeq'], \n",
    "             columns=['F1 Score Macro', 'Recall', 'Precision', 'Accuracy'])\n",
    "\n",
    "%config InlineBackend.figure_format = 'retina'\n",
    "import seaborn as sns\n",
    "sns.set(font_scale=1.2)\n",
    "color = ['orange','darkorange','lightgrey', 'grey']\n",
    "sns.barplot(data=c, capsize=0.15, errcolor=\"0\", errwidth=0.7, palette=color)"
   ]
  },
  {
   "cell_type": "code",
   "execution_count": 60,
   "id": "aa9214d1-b222-4943-88de-adadb39aba2d",
   "metadata": {},
   "outputs": [
    {
     "data": {
      "text/plain": [
       "<AxesSubplot:>"
      ]
     },
     "execution_count": 60,
     "metadata": {},
     "output_type": "execute_result"
    },
    {
     "data": {
      "image/png": "[encoded data removed]",
      "text/plain": [
       "<Figure size 432x288 with 1 Axes>"
      ]
     },
     "metadata": {
      "image/png": {
       "height": 253,
       "width": 373
      }
     },
     "output_type": "display_data"
    }
   ],
   "source": [
    "gse = RFClass(GSE81653_image, GSE81653_image_test, GSE81653_train_labs, GSE81653_test_labs)\n",
    "arr = RFClass(array_image, array_image_test, array_train_labs, array_test_labs)\n",
    "rna = RFClass(rna_image, rna_image_test, rnaseq_train_labs, rnaseq_test_labs)\n",
    "all_metrics = np.stack([gse, arr, rna])\n",
    "\n",
    "c = pd.DataFrame(all_metrics,\n",
    "             index=['GSE81653', 'Array', 'RNASeq'], \n",
    "             columns=['F1 Score Macro', 'Recall', 'Precision', 'Accuracy'])\n",
    "\n",
    "%config InlineBackend.figure_format = 'retina'\n",
    "import seaborn as sns\n",
    "sns.set(font_scale=1.2)\n",
    "color = ['orange','darkorange','lightgrey', 'grey']\n",
    "sns.barplot(data=c, capsize=0.15, errcolor=\"0\", errwidth=0.7, palette=color)"
   ]
  },
  {
   "cell_type": "code",
   "execution_count": 43,
   "id": "88c51d66-cc13-48ac-b714-dea5560918ae",
   "metadata": {},
   "outputs": [],
   "source": [
    "def MLPClass(X_train, X_test, y_train, y_test):\n",
    "    \n",
    "    from sklearn.neural_network import MLPClassifier\n",
    "    \n",
    "    clf = MLPClassifier(random_state=1, max_iter=300).fit(X_train, y_train)\n",
    "    y_pred = clf.predict(X_test)\n",
    "    \n",
    "    f1 = f1_score(y_test, y_pred, average=\"macro\")\n",
    "    pr = precision_score(y_test, y_pred, average=\"macro\")\n",
    "    re = recall_score(y_test, y_pred, average=\"macro\")\n",
    "    acc = accuracy_score(y_test, y_pred)\n",
    "    \n",
    "    scores = np.array([f1*100, re*100, pr*100, acc*100])\n",
    "    return scores"
   ]
  },
  {
   "cell_type": "code",
   "execution_count": 59,
   "id": "a892f384-d2a8-4f2e-8642-e6660de54e36",
   "metadata": {},
   "outputs": [
    {
     "name": "stderr",
     "output_type": "stream",
     "text": [
      "/Library/Frameworks/Python.framework/Versions/3.9/lib/python3.9/site-packages/sklearn/neural_network/_multilayer_perceptron.py:692: ConvergenceWarning: Stochastic Optimizer: Maximum iterations (300) reached and the optimization hasn't converged yet.\n",
      "  warnings.warn(\n"
     ]
    },
    {
     "data": {
      "text/plain": [
       "<AxesSubplot:>"
      ]
     },
     "execution_count": 59,
     "metadata": {},
     "output_type": "execute_result"
    },
    {
     "data": {
      "image/png": "[encoded data removed]",
      "text/plain": [
       "<Figure size 432x288 with 1 Axes>"
      ]
     },
     "metadata": {
      "image/png": {
       "height": 253,
       "width": 373
      }
     },
     "output_type": "display_data"
    }
   ],
   "source": [
    "gse = MLPClass(GSE81653_landscape, GSE81653_landscape_test, GSE81653_train_labs, GSE81653_test_labs)\n",
    "arr = MLPClass(array_landscape, array_landscape_test, array_train_labs, array_test_labs)\n",
    "rna = MLPClass(rna_landscape, rna_landscape_test, rnaseq_train_labs, rnaseq_test_labs)\n",
    "all_metrics = np.stack([gse, arr, rna])\n",
    "\n",
    "c = pd.DataFrame(all_metrics,\n",
    "             index=['GSE81653', 'Array', 'RNASeq'], \n",
    "             columns=['F1 Score Macro', 'Recall', 'Precision', 'Accuracy'])\n",
    "\n",
    "%config InlineBackend.figure_format = 'retina'\n",
    "import seaborn as sns\n",
    "sns.set(font_scale=1.2)\n",
    "color = ['orange','darkorange','lightgrey', 'grey']\n",
    "sns.barplot(data=c, capsize=0.15, errcolor=\"0\", errwidth=0.7, palette=color)"
   ]
  },
  {
   "cell_type": "code",
   "execution_count": 58,
   "id": "fac5b0e5-2ee7-436e-86d6-b55a74eb8480",
   "metadata": {},
   "outputs": [
    {
     "name": "stderr",
     "output_type": "stream",
     "text": [
      "/Library/Frameworks/Python.framework/Versions/3.9/lib/python3.9/site-packages/sklearn/neural_network/_multilayer_perceptron.py:692: ConvergenceWarning: Stochastic Optimizer: Maximum iterations (300) reached and the optimization hasn't converged yet.\n",
      "  warnings.warn(\n",
      "/Library/Frameworks/Python.framework/Versions/3.9/lib/python3.9/site-packages/sklearn/neural_network/_multilayer_perceptron.py:692: ConvergenceWarning: Stochastic Optimizer: Maximum iterations (300) reached and the optimization hasn't converged yet.\n",
      "  warnings.warn(\n"
     ]
    },
    {
     "data": {
      "text/plain": [
       "<AxesSubplot:>"
      ]
     },
     "execution_count": 58,
     "metadata": {},
     "output_type": "execute_result"
    },
    {
     "data": {
      "image/png": "[encoded data removed]",
      "text/plain": [
       "<Figure size 432x288 with 1 Axes>"
      ]
     },
     "metadata": {
      "image/png": {
       "height": 253,
       "width": 373
      }
     },
     "output_type": "display_data"
    }
   ],
   "source": [
    "gse = MLPClass(GSE81653_image, GSE81653_image_test, GSE81653_train_labs, GSE81653_test_labs)\n",
    "arr = MLPClass(array_image, array_image_test, array_train_labs, array_test_labs)\n",
    "rna = MLPClass(rna_image, rna_image_test, rnaseq_train_labs, rnaseq_test_labs)\n",
    "all_metrics = np.stack([gse, arr, rna])\n",
    "\n",
    "c = pd.DataFrame(all_metrics,\n",
    "             index=['GSE81653', 'Array', 'RNASeq'], \n",
    "             columns=['F1 Score Macro', 'Recall', 'Precision', 'Accuracy'])\n",
    "\n",
    "%config InlineBackend.figure_format = 'retina'\n",
    "import seaborn as sns\n",
    "sns.set(font_scale=1.2)\n",
    "color = ['orange','darkorange','lightgrey', 'grey']\n",
    "sns.barplot(data=c, capsize=0.15, errcolor=\"0\", errwidth=0.7, palette=color)"
   ]
  },
  {
   "cell_type": "code",
   "execution_count": null,
   "id": "7875beca-d706-4c10-9f8a-e0260d6abab5",
   "metadata": {},
   "outputs": [],
   "source": []
  }
 ],
 "metadata": {
  "kernelspec": {
   "display_name": "Python 3 (ipykernel)",
   "language": "python",
   "name": "python3"
  },
  "language_info": {
   "codemirror_mode": {
    "name": "ipython",
    "version": 3
   },
   "file_extension": ".py",
   "mimetype": "text/x-python",
   "name": "python",
   "nbconvert_exporter": "python",
   "pygments_lexer": "ipython3",
   "version": "3.9.11"
  }
 },
 "nbformat": 4,
 "nbformat_minor": 5
}
